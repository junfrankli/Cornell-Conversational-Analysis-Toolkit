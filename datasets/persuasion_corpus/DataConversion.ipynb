{
 "cells": [
  {
   "cell_type": "code",
   "execution_count": 2,
   "metadata": {},
   "outputs": [],
   "source": [
    "from tqdm import tqdm\n",
    "from convokit import Corpus, User, Utterance"
   ]
  },
  {
   "cell_type": "markdown",
   "metadata": {},
   "source": [
    "## Creating Users"
   ]
  },
  {
   "cell_type": "code",
   "execution_count": 2,
   "metadata": {},
   "outputs": [],
   "source": [
    "data_dir = \"./data/FullData/full_info.csv\""
   ]
  },
  {
   "cell_type": "code",
   "execution_count": 3,
   "metadata": {},
   "outputs": [],
   "source": [
    "anno_dir = \"./data/AnnotatedData/300_info.xlsx\""
   ]
  },
  {
   "cell_type": "markdown",
   "metadata": {},
   "source": [
    "The full PersuasionForGood dataset contains two files:\n",
    "    full_info.csv\n",
    "    full_dialog.csv\n",
    "The metadata for each of the users are contained in the full_info.csv file. \n",
    "The first five columns of each line include information about the dialogue that the user is a part of. Because a user can be involved in multiple dialogues, each dialogue is a key within the user metadata which retreives the role, donation amount and number of turn associated with the user within a specific dialogue. The rest of the entries correspond to the 23 dimensional feature vector associated with each user. \n",
    "\n",
    "Additionally, the dictionary diag_to_user is used so that the users can be searched with just a dialogue ID and role. This is because the full_dialog.csv file only has the dialogue id and not the user_ids of the participating users. "
   ]
  },
  {
   "cell_type": "code",
   "execution_count": 7,
   "metadata": {},
   "outputs": [],
   "source": [
    "from collections import defaultdict\n",
    "user_meta = defaultdict(dict)\n",
    "first = True\n",
    "headers = None\n",
    "diag_to_user = {}\n",
    "diag_meta = {}\n",
    "roles = [\"persuader\",\"persuadee\"]\n",
    "with open(data_dir, \"r\", encoding='utf-8', errors='ignore') as f:\n",
    "    for line in f:          \n",
    "        info = line.split(\",\")\n",
    "        if first:\n",
    "            #Getting the headers of the personality vector\n",
    "            headers = info[5:]\n",
    "            first = False\n",
    "        else:\n",
    "            diag_to_user[(info[0],info[2])] = info[1]\n",
    "            if info[0] in diag_meta:\n",
    "                diag_meta[info[0]][roles[int(info[2])]] = info[1]\n",
    "            else:\n",
    "                diag_meta[info[0]] = {\"donation_amt\": info[3],\n",
    "                                      \"num_turns\": info[4],\n",
    "                                      \"intended_amt\": None}\n",
    "                diag_meta[info[0]][roles[int(info[2])]] = info[1]\n",
    "            if info[1] not in user_meta:\n",
    "                for i, heading in enumerate(headers):\n",
    "                    user_meta[info[1]][heading] = info[i+5]"
   ]
  },
  {
   "cell_type": "code",
   "execution_count": 1,
   "metadata": {},
   "outputs": [],
   "source": [
    "# diag_meta"
   ]
  },
  {
   "cell_type": "code",
   "execution_count": 10,
   "metadata": {},
   "outputs": [
    {
     "data": {
      "text/html": [
       "<div>\n",
       "<style scoped>\n",
       "    .dataframe tbody tr th:only-of-type {\n",
       "        vertical-align: middle;\n",
       "    }\n",
       "\n",
       "    .dataframe tbody tr th {\n",
       "        vertical-align: top;\n",
       "    }\n",
       "\n",
       "    .dataframe thead th {\n",
       "        text-align: right;\n",
       "    }\n",
       "</style>\n",
       "<table border=\"1\" class=\"dataframe\">\n",
       "  <thead>\n",
       "    <tr style=\"text-align: right;\">\n",
       "      <th></th>\n",
       "      <th>B2</th>\n",
       "      <th>B3</th>\n",
       "      <th>B4</th>\n",
       "      <th>B5</th>\n",
       "      <th>B6</th>\n",
       "      <th>B7</th>\n",
       "    </tr>\n",
       "  </thead>\n",
       "  <tbody>\n",
       "    <tr>\n",
       "      <td>0</td>\n",
       "      <td>20180717-200206_41_live</td>\n",
       "      <td>A272X64FOZFYLB</td>\n",
       "      <td>0</td>\n",
       "      <td>NaN</td>\n",
       "      <td>0.5</td>\n",
       "      <td>10.0</td>\n",
       "    </tr>\n",
       "    <tr>\n",
       "      <td>1</td>\n",
       "      <td>20180717-200206_41_live</td>\n",
       "      <td>A3JLE2LJ5I17E2</td>\n",
       "      <td>1</td>\n",
       "      <td>0.5</td>\n",
       "      <td>0.5</td>\n",
       "      <td>10.0</td>\n",
       "    </tr>\n",
       "    <tr>\n",
       "      <td>2</td>\n",
       "      <td>20180719-120436_413_live</td>\n",
       "      <td>AU7A3QNJF3O00</td>\n",
       "      <td>0</td>\n",
       "      <td>NaN</td>\n",
       "      <td>0.0</td>\n",
       "      <td>10.0</td>\n",
       "    </tr>\n",
       "    <tr>\n",
       "      <td>3</td>\n",
       "      <td>20180719-120436_413_live</td>\n",
       "      <td>A5NE8TWS8ZV7B</td>\n",
       "      <td>1</td>\n",
       "      <td>NaN</td>\n",
       "      <td>0.0</td>\n",
       "      <td>10.0</td>\n",
       "    </tr>\n",
       "    <tr>\n",
       "      <td>4</td>\n",
       "      <td>20180719-122534_38_live</td>\n",
       "      <td>A125KW9P18V5Z1</td>\n",
       "      <td>0</td>\n",
       "      <td>NaN</td>\n",
       "      <td>0.0</td>\n",
       "      <td>11.0</td>\n",
       "    </tr>\n",
       "    <tr>\n",
       "      <td>...</td>\n",
       "      <td>...</td>\n",
       "      <td>...</td>\n",
       "      <td>...</td>\n",
       "      <td>...</td>\n",
       "      <td>...</td>\n",
       "      <td>...</td>\n",
       "    </tr>\n",
       "    <tr>\n",
       "      <td>595</td>\n",
       "      <td>20180904-043300_214_live</td>\n",
       "      <td>A3P2LT53J1GUBG</td>\n",
       "      <td>1</td>\n",
       "      <td>NaN</td>\n",
       "      <td>0.0</td>\n",
       "      <td>10.0</td>\n",
       "    </tr>\n",
       "    <tr>\n",
       "      <td>596</td>\n",
       "      <td>20180904-045349_715_live</td>\n",
       "      <td>A3A07QA5U733HQ</td>\n",
       "      <td>0</td>\n",
       "      <td>NaN</td>\n",
       "      <td>0.0</td>\n",
       "      <td>11.0</td>\n",
       "    </tr>\n",
       "    <tr>\n",
       "      <td>597</td>\n",
       "      <td>20180904-045349_715_live</td>\n",
       "      <td>A25L985XCNESXE</td>\n",
       "      <td>1</td>\n",
       "      <td>0.2</td>\n",
       "      <td>0.0</td>\n",
       "      <td>11.0</td>\n",
       "    </tr>\n",
       "    <tr>\n",
       "      <td>598</td>\n",
       "      <td>20180904-073734_888_live</td>\n",
       "      <td>A37UAEDJV33QQ5</td>\n",
       "      <td>0</td>\n",
       "      <td>NaN</td>\n",
       "      <td>1.0</td>\n",
       "      <td>NaN</td>\n",
       "    </tr>\n",
       "    <tr>\n",
       "      <td>599</td>\n",
       "      <td>20180904-073734_888_live</td>\n",
       "      <td>A2ZHSCEKPMUX9Y</td>\n",
       "      <td>1</td>\n",
       "      <td>NaN</td>\n",
       "      <td>0.0</td>\n",
       "      <td>10.0</td>\n",
       "    </tr>\n",
       "  </tbody>\n",
       "</table>\n",
       "<p>600 rows × 6 columns</p>\n",
       "</div>"
      ],
      "text/plain": [
       "                           B2              B3  B4   B5   B6    B7\n",
       "0     20180717-200206_41_live  A272X64FOZFYLB   0  NaN  0.5  10.0\n",
       "1     20180717-200206_41_live  A3JLE2LJ5I17E2   1  0.5  0.5  10.0\n",
       "2    20180719-120436_413_live   AU7A3QNJF3O00   0  NaN  0.0  10.0\n",
       "3    20180719-120436_413_live   A5NE8TWS8ZV7B   1  NaN  0.0  10.0\n",
       "4     20180719-122534_38_live  A125KW9P18V5Z1   0  NaN  0.0  11.0\n",
       "..                        ...             ...  ..  ...  ...   ...\n",
       "595  20180904-043300_214_live  A3P2LT53J1GUBG   1  NaN  0.0  10.0\n",
       "596  20180904-045349_715_live  A3A07QA5U733HQ   0  NaN  0.0  11.0\n",
       "597  20180904-045349_715_live  A25L985XCNESXE   1  0.2  0.0  11.0\n",
       "598  20180904-073734_888_live  A37UAEDJV33QQ5   0  NaN  1.0   NaN\n",
       "599  20180904-073734_888_live  A2ZHSCEKPMUX9Y   1  NaN  0.0  10.0\n",
       "\n",
       "[600 rows x 6 columns]"
      ]
     },
     "execution_count": 10,
     "metadata": {},
     "output_type": "execute_result"
    }
   ],
   "source": [
    "import pandas as pd\n",
    "anno_info = pd.read_excel(anno_dir) \n",
    "anno_info"
   ]
  },
  {
   "cell_type": "code",
   "execution_count": 12,
   "metadata": {},
   "outputs": [],
   "source": [
    "for line in anno_info.values:          \n",
    "    if line[2] == 1:\n",
    "        diag_meta[info[0]][\"intended_amt\"] = line[3]"
   ]
  },
  {
   "cell_type": "code",
   "execution_count": 13,
   "metadata": {},
   "outputs": [],
   "source": [
    "corpus_users = {k: User(name = k, meta = v) for k,v in user_meta.items()}"
   ]
  },
  {
   "cell_type": "code",
   "execution_count": 16,
   "metadata": {},
   "outputs": [
    {
     "name": "stdout",
     "output_type": "stream",
     "text": [
      "number of users in the data = 1285\n"
     ]
    }
   ],
   "source": [
    "print(\"number of users in the data = {0}\".format(len(corpus_users)))"
   ]
  },
  {
   "cell_type": "markdown",
   "metadata": {},
   "source": [
    "## Creating Utterances\n",
    "\n",
    "Utterances can be found in the full_dialog.csv, with 20932 lines total. The raw data has four columns: <br>\n",
    "\"Unit\" is the text of the utterance.  <br>\n",
    "\"Turn\" is the turn of the utterance; for example, the first back and forth between persuader and persuadee would both have \"Turn\" = 0.  <br>\n",
    "\"B2\" is the conversation ID. <br>\n",
    "\"B4\" is the role of the user in this utterance, persuader(0) or persuadee (1). <br>\n",
    "\n",
    "As per the utterance object, we give each utterance a unique id and the unique user ID is found using a dictionary which takes in the conversation ID and role of user. The metadata for each utterance includes both the turn and role  of user. "
   ]
  },
  {
   "cell_type": "code",
   "execution_count": 18,
   "metadata": {},
   "outputs": [
    {
     "data": {
      "text/html": [
       "<div>\n",
       "<style scoped>\n",
       "    .dataframe tbody tr th:only-of-type {\n",
       "        vertical-align: middle;\n",
       "    }\n",
       "\n",
       "    .dataframe tbody tr th {\n",
       "        vertical-align: top;\n",
       "    }\n",
       "\n",
       "    .dataframe thead th {\n",
       "        text-align: right;\n",
       "    }\n",
       "</style>\n",
       "<table border=\"1\" class=\"dataframe\">\n",
       "  <thead>\n",
       "    <tr style=\"text-align: right;\">\n",
       "      <th></th>\n",
       "      <th>Unnamed: 0</th>\n",
       "      <th>Unit</th>\n",
       "      <th>Turn</th>\n",
       "      <th>B4</th>\n",
       "      <th>B2</th>\n",
       "    </tr>\n",
       "  </thead>\n",
       "  <tbody>\n",
       "    <tr>\n",
       "      <td>0</td>\n",
       "      <td>0</td>\n",
       "      <td>Good morning. How are you doing today?</td>\n",
       "      <td>0</td>\n",
       "      <td>0</td>\n",
       "      <td>20180904-045349_715_live</td>\n",
       "    </tr>\n",
       "    <tr>\n",
       "      <td>1</td>\n",
       "      <td>1</td>\n",
       "      <td>Hi. I am doing good. How about you?</td>\n",
       "      <td>0</td>\n",
       "      <td>1</td>\n",
       "      <td>20180904-045349_715_live</td>\n",
       "    </tr>\n",
       "    <tr>\n",
       "      <td>2</td>\n",
       "      <td>2</td>\n",
       "      <td>I'm doing pretty good for a Tuesday morning.</td>\n",
       "      <td>1</td>\n",
       "      <td>0</td>\n",
       "      <td>20180904-045349_715_live</td>\n",
       "    </tr>\n",
       "    <tr>\n",
       "      <td>3</td>\n",
       "      <td>3</td>\n",
       "      <td>Haha. Same here, but it really feels like a Mo...</td>\n",
       "      <td>1</td>\n",
       "      <td>1</td>\n",
       "      <td>20180904-045349_715_live</td>\n",
       "    </tr>\n",
       "    <tr>\n",
       "      <td>4</td>\n",
       "      <td>4</td>\n",
       "      <td>Ugh yes it does!</td>\n",
       "      <td>2</td>\n",
       "      <td>0</td>\n",
       "      <td>20180904-045349_715_live</td>\n",
       "    </tr>\n",
       "    <tr>\n",
       "      <td>...</td>\n",
       "      <td>...</td>\n",
       "      <td>...</td>\n",
       "      <td>...</td>\n",
       "      <td>...</td>\n",
       "      <td>...</td>\n",
       "    </tr>\n",
       "    <tr>\n",
       "      <td>20927</td>\n",
       "      <td>15</td>\n",
       "      <td>My small change won't do a thing for those kid...</td>\n",
       "      <td>7</td>\n",
       "      <td>1</td>\n",
       "      <td>20180717-200206_41_live</td>\n",
       "    </tr>\n",
       "    <tr>\n",
       "      <td>20928</td>\n",
       "      <td>16</td>\n",
       "      <td>Well with our current president it's not likel...</td>\n",
       "      <td>8</td>\n",
       "      <td>0</td>\n",
       "      <td>20180717-200206_41_live</td>\n",
       "    </tr>\n",
       "    <tr>\n",
       "      <td>20929</td>\n",
       "      <td>17</td>\n",
       "      <td>If it makes you happy, go ahead and take .50</td>\n",
       "      <td>8</td>\n",
       "      <td>1</td>\n",
       "      <td>20180717-200206_41_live</td>\n",
       "    </tr>\n",
       "    <tr>\n",
       "      <td>20930</td>\n",
       "      <td>18</td>\n",
       "      <td>Oh thank you so much, you have no idea how muc...</td>\n",
       "      <td>9</td>\n",
       "      <td>0</td>\n",
       "      <td>20180717-200206_41_live</td>\n",
       "    </tr>\n",
       "    <tr>\n",
       "      <td>20931</td>\n",
       "      <td>19</td>\n",
       "      <td>No problem have a good night</td>\n",
       "      <td>9</td>\n",
       "      <td>1</td>\n",
       "      <td>20180717-200206_41_live</td>\n",
       "    </tr>\n",
       "  </tbody>\n",
       "</table>\n",
       "<p>20932 rows × 5 columns</p>\n",
       "</div>"
      ],
      "text/plain": [
       "       Unnamed: 0                                               Unit  Turn  \\\n",
       "0               0             Good morning. How are you doing today?     0   \n",
       "1               1                Hi. I am doing good. How about you?     0   \n",
       "2               2      I'm doing pretty good for a Tuesday morning.      1   \n",
       "3               3  Haha. Same here, but it really feels like a Mo...     1   \n",
       "4               4                                   Ugh yes it does!     2   \n",
       "...           ...                                                ...   ...   \n",
       "20927          15  My small change won't do a thing for those kid...     7   \n",
       "20928          16  Well with our current president it's not likel...     8   \n",
       "20929          17       If it makes you happy, go ahead and take .50     8   \n",
       "20930          18  Oh thank you so much, you have no idea how muc...     9   \n",
       "20931          19                       No problem have a good night     9   \n",
       "\n",
       "       B4                        B2  \n",
       "0       0  20180904-045349_715_live  \n",
       "1       1  20180904-045349_715_live  \n",
       "2       0  20180904-045349_715_live  \n",
       "3       1  20180904-045349_715_live  \n",
       "4       0  20180904-045349_715_live  \n",
       "...    ..                       ...  \n",
       "20927   1   20180717-200206_41_live  \n",
       "20928   0   20180717-200206_41_live  \n",
       "20929   1   20180717-200206_41_live  \n",
       "20930   0   20180717-200206_41_live  \n",
       "20931   1   20180717-200206_41_live  \n",
       "\n",
       "[20932 rows x 5 columns]"
      ]
     },
     "execution_count": 18,
     "metadata": {},
     "output_type": "execute_result"
    }
   ],
   "source": [
    "import pandas as pd\n",
    "utterance_data = pd.read_csv(\"./data/FullData/full_dialog.csv\") \n",
    "utterance_data"
   ]
  },
  {
   "cell_type": "code",
   "execution_count": 19,
   "metadata": {},
   "outputs": [
    {
     "data": {
      "text/plain": [
       "2034"
      ]
     },
     "execution_count": 19,
     "metadata": {},
     "output_type": "execute_result"
    }
   ],
   "source": [
    "len(diag_to_user)"
   ]
  },
  {
   "cell_type": "code",
   "execution_count": 20,
   "metadata": {},
   "outputs": [],
   "source": [
    "utterance_corpus = {}\n",
    "convo_order = utterance_data[\"Unnamed: 0\"]\n",
    "dia_to_id = {}\n",
    "\n",
    "for i in list(range(len(utterance_data))):\n",
    "    utterance_data_line = utterance_data.loc[i, :]\n",
    "    B2 = utterance_data_line[\"B2\"]\n",
    "    B4 = utterance_data_line[\"B4\"]\n",
    "    Text = utterance_data_line[\"Unit\"]\n",
    "    meta = {\"role\": B4, \"turn_index\": utterance_data_line[\"Turn\"], \"dialogue_id\" : B2, \"er_label_1\": None, \"ee_label_1\": None, \"er_label_2\": None, \"er_label_2\": None,\"neg\": None, \"neu\": None, \"pos\": None}\n",
    "    \n",
    "    if utterance_data_line[\"Unnamed: 0\"] == 0:\n",
    "        ReplyTo = None\n",
    "    else:  \n",
    "        ReplyTo = i - 1\n",
    "    if utterance_data_line[\"Unnamed: 0\"] == 0:\n",
    "        Root = i\n",
    "    else:\n",
    "        utter_id = list(range(0, i+1))\n",
    "        convo_order_sub = convo_order.loc[0:i]\n",
    "        df = pd.DataFrame({\"utter_id\": utter_id, \"convo_order_sub\":convo_order_sub})\n",
    "        df2 = df[df[\"convo_order_sub\"] == 0]\n",
    "        Root = df2['utter_id'].max()\n",
    "    utterance_corpus[i] = Utterance(i, corpus_users[diag_to_user[(B2,str(B4))]], Root, ReplyTo, None, Text, meta=meta)\n",
    "    dia_to_id[(B2,B4,utterance_data_line[\"Turn\"])] = i"
   ]
  },
  {
   "cell_type": "code",
   "execution_count": 47,
   "metadata": {},
   "outputs": [
    {
     "data": {
      "text/plain": [
       "{'dialogue_id': '20180904-045349_715_live',\n",
       " 'ee_label_1': None,\n",
       " 'er_label_1': 'greeting',\n",
       " 'er_label_2': None,\n",
       " 'neg': 0.0,\n",
       " 'neu': 1.0,\n",
       " 'pos': 0.0,\n",
       " 'role': 0,\n",
       " 'turn_index': 0}"
      ]
     },
     "execution_count": 47,
     "metadata": {},
     "output_type": "execute_result"
    }
   ],
   "source": [
    "utterance_corpus[0].meta"
   ]
  },
  {
   "cell_type": "code",
   "execution_count": 22,
   "metadata": {},
   "outputs": [],
   "source": [
    "import numpy as np"
   ]
  },
  {
   "cell_type": "code",
   "execution_count": 24,
   "metadata": {},
   "outputs": [],
   "source": [
    "anno_utterances = pd.read_excel(\"./data/AnnotatedData/300_dialog.xlsx\") \n",
    "anno_utterances.values[pd.isna(anno_utterances.values)] = None"
   ]
  },
  {
   "cell_type": "code",
   "execution_count": 25,
   "metadata": {},
   "outputs": [],
   "source": [
    "for line in anno_utterances.values:\n",
    "    if not pd.isna(line[5]):\n",
    "        utterance_corpus[dia_to_id[(line[1],line[2],line[3])]].meta[\"er_label_1\"] = line[5]\n",
    "    if not pd.isna(line[6]):\n",
    "        utterance_corpus[dia_to_id[(line[1],line[2],line[3])]].meta[\"e2_label_1\"] = line[6]\n",
    "    if not pd.isna(line[7]):\n",
    "        utterance_corpus[dia_to_id[(line[1],line[2],line[3])]].meta[\"er_label_2\"] = line[7]\n",
    "    if not pd.isna(line[8]):\n",
    "        utterance_corpus[dia_to_id[(line[1],line[2],line[3])]].meta[\"ee_label_2\"] = line[8]\n",
    "    if not pd.isna(line[9]):\n",
    "        utterance_corpus[dia_to_id[(line[1],line[2],line[3])]].meta[\"neg\"] = line[9]\n",
    "    if not pd.isna(line[10]):\n",
    "        utterance_corpus[dia_to_id[(line[1],line[2],line[3])]].meta[\"neu\"] = line[10]\n",
    "    if not pd.isna(line[11]):\n",
    "        utterance_corpus[dia_to_id[(line[1],line[2],line[3])]].meta[\"pos\"] = line[11]\n",
    "        "
   ]
  },
  {
   "cell_type": "markdown",
   "metadata": {},
   "source": [
    "##  Creating corpus from utterances"
   ]
  },
  {
   "cell_type": "code",
   "execution_count": 26,
   "metadata": {},
   "outputs": [],
   "source": [
    "utterance_list = [utterance for k, utterance in utterance_corpus.items()]"
   ]
  },
  {
   "cell_type": "code",
   "execution_count": 27,
   "metadata": {},
   "outputs": [],
   "source": [
    "persuasion_corpus = Corpus(utterances=utterance_list, version=1)"
   ]
  },
  {
   "cell_type": "code",
   "execution_count": 28,
   "metadata": {},
   "outputs": [
    {
     "name": "stdout",
     "output_type": "stream",
     "text": [
      "number of conversations in the dataset = 1017\n"
     ]
    }
   ],
   "source": [
    "print(\"number of conversations in the dataset = {}\".format(len(persuasion_corpus.get_conversation_ids())))"
   ]
  },
  {
   "cell_type": "code",
   "execution_count": 29,
   "metadata": {},
   "outputs": [
    {
     "name": "stdout",
     "output_type": "stream",
     "text": [
      "sample conversation 0:\n",
      "[0, 1, 2, 3, 4, 5, 6, 7, 8, 9, 10, 11, 12, 13, 14, 15, 16, 17, 18, 19, 20]\n",
      "sample conversation 1:\n",
      "[21, 22, 23, 24, 25, 26, 27, 28, 29, 30, 31, 32, 33, 34, 35, 36, 37, 38, 39, 40]\n",
      "sample conversation 2:\n",
      "[41, 42, 43, 44, 45, 46, 47, 48, 49, 50, 51, 52, 53, 54, 55, 56, 57, 58, 59, 60]\n",
      "sample conversation 3:\n",
      "[61, 62, 63, 64, 65, 66, 67, 68, 69, 70, 71, 72, 73, 74, 75, 76, 77, 78, 79, 80, 81]\n",
      "sample conversation 4:\n",
      "[82, 83, 84, 85, 86, 87, 88, 89, 90, 91, 92, 93, 94, 95, 96, 97, 98, 99, 100, 101, 102]\n"
     ]
    }
   ],
   "source": [
    "convo_ids = persuasion_corpus.get_conversation_ids()\n",
    "for i, convo_idx in enumerate(convo_ids[0:5]):\n",
    "    print(\"sample conversation {}:\".format(i))\n",
    "    print(persuasion_corpus.get_conversation(convo_idx).get_utterance_ids())"
   ]
  },
  {
   "cell_type": "code",
   "execution_count": 32,
   "metadata": {},
   "outputs": [
    {
     "data": {
      "text/plain": [
       "{}"
      ]
     },
     "execution_count": 32,
     "metadata": {},
     "output_type": "execute_result"
    }
   ],
   "source": [
    "for i in range(len(persuasion_corpus.conversations)):\n",
    "    "
   ]
  },
  {
   "cell_type": "code",
   "execution_count": 56,
   "metadata": {},
   "outputs": [],
   "source": [
    "for conversation in persuasion_corpus.conversations.values():\n",
    "    conversation.meta = diag_meta[conversation.get_utterance(conversation._utterance_ids[0]).meta['dialogue_id']]"
   ]
  },
  {
   "cell_type": "code",
   "execution_count": 58,
   "metadata": {},
   "outputs": [],
   "source": [
    "persuasion_corpus.dump(\"persuasion_corpus\",\"./\")"
   ]
  },
  {
   "cell_type": "code",
   "execution_count": null,
   "metadata": {},
   "outputs": [],
   "source": []
  },
  {
   "cell_type": "code",
   "execution_count": 22,
   "metadata": {},
   "outputs": [],
   "source": [
    "from convokit import Parser"
   ]
  },
  {
   "cell_type": "code",
   "execution_count": 23,
   "metadata": {},
   "outputs": [],
   "source": [
    "annotator = Parser()"
   ]
  },
  {
   "cell_type": "code",
   "execution_count": 25,
   "metadata": {},
   "outputs": [],
   "source": [
    "movie_corpus = annotator.fit_transform(persuasion_corpus)"
   ]
  },
  {
   "cell_type": "code",
   "execution_count": 27,
   "metadata": {},
   "outputs": [],
   "source": [
    "persuasion_corpus = movie_corpus"
   ]
  },
  {
   "cell_type": "code",
   "execution_count": 32,
   "metadata": {},
   "outputs": [],
   "source": [
    "from convokit import PolitenessStrategies"
   ]
  },
  {
   "cell_type": "code",
   "execution_count": 33,
   "metadata": {},
   "outputs": [],
   "source": [
    "ps = PolitenessStrategies()\n",
    "persuasion_corpus = ps.transform(persuasion_corpus)"
   ]
  },
  {
   "cell_type": "code",
   "execution_count": 1,
   "metadata": {},
   "outputs": [
    {
     "ename": "JSONDecodeError",
     "evalue": "Expecting value: line 1 column 19 (char 18)",
     "output_type": "error",
     "traceback": [
      "\u001b[0;31m---------------------------------------------------------------------------\u001b[0m",
      "\u001b[0;31mJSONDecodeError\u001b[0m                           Traceback (most recent call last)",
      "\u001b[0;32m<ipython-input-1-dc6622753fe8>\u001b[0m in \u001b[0;36m<module>\u001b[0;34m()\u001b[0m\n\u001b[1;32m      1\u001b[0m \u001b[0;32mfrom\u001b[0m \u001b[0mconvokit\u001b[0m \u001b[0;32mimport\u001b[0m \u001b[0mCorpus\u001b[0m\u001b[0;34m,\u001b[0m \u001b[0mdownload\u001b[0m\u001b[0;34m\u001b[0m\u001b[0m\n\u001b[0;32m----> 2\u001b[0;31m \u001b[0mcorpus\u001b[0m \u001b[0;34m=\u001b[0m \u001b[0mCorpus\u001b[0m\u001b[0;34m(\u001b[0m\u001b[0mfilename\u001b[0m\u001b[0;34m=\u001b[0m\u001b[0;34m(\u001b[0m\u001b[0;34m\"persuasion_corpus\"\u001b[0m\u001b[0;34m)\u001b[0m\u001b[0;34m)\u001b[0m\u001b[0;34m\u001b[0m\u001b[0m\n\u001b[0m",
      "\u001b[0;32m/anaconda3/lib/python3.6/site-packages/convokit/model/corpus.py\u001b[0m in \u001b[0;36m__init__\u001b[0;34m(self, filename, utterances, utterance_start_index, utterance_end_index, merge_lines, exclude_utterance_meta, exclude_conversation_meta, exclude_user_meta, exclude_overall_meta, version)\u001b[0m\n\u001b[1;32m     77\u001b[0m                         \u001b[0;32mfor\u001b[0m \u001b[0mline\u001b[0m \u001b[0;32min\u001b[0m \u001b[0mf\u001b[0m\u001b[0;34m:\u001b[0m\u001b[0;34m\u001b[0m\u001b[0m\n\u001b[1;32m     78\u001b[0m                             \u001b[0;32mif\u001b[0m \u001b[0mutterance_start_index\u001b[0m \u001b[0;34m<=\u001b[0m \u001b[0midx\u001b[0m \u001b[0;34m<=\u001b[0m \u001b[0mutterance_end_index\u001b[0m\u001b[0;34m:\u001b[0m\u001b[0;34m\u001b[0m\u001b[0m\n\u001b[0;32m---> 79\u001b[0;31m                                 \u001b[0mutterances\u001b[0m\u001b[0;34m.\u001b[0m\u001b[0mappend\u001b[0m\u001b[0;34m(\u001b[0m\u001b[0mjson\u001b[0m\u001b[0;34m.\u001b[0m\u001b[0mloads\u001b[0m\u001b[0;34m(\u001b[0m\u001b[0mline\u001b[0m\u001b[0;34m)\u001b[0m\u001b[0;34m)\u001b[0m\u001b[0;34m\u001b[0m\u001b[0m\n\u001b[0m\u001b[1;32m     80\u001b[0m                             \u001b[0midx\u001b[0m \u001b[0;34m+=\u001b[0m \u001b[0;36m1\u001b[0m\u001b[0;34m\u001b[0m\u001b[0m\n\u001b[1;32m     81\u001b[0m \u001b[0;34m\u001b[0m\u001b[0m\n",
      "\u001b[0;32m/anaconda3/lib/python3.6/json/__init__.py\u001b[0m in \u001b[0;36mloads\u001b[0;34m(s, encoding, cls, object_hook, parse_float, parse_int, parse_constant, object_pairs_hook, **kw)\u001b[0m\n\u001b[1;32m    352\u001b[0m             \u001b[0mparse_int\u001b[0m \u001b[0;32mis\u001b[0m \u001b[0;32mNone\u001b[0m \u001b[0;32mand\u001b[0m \u001b[0mparse_float\u001b[0m \u001b[0;32mis\u001b[0m \u001b[0;32mNone\u001b[0m \u001b[0;32mand\u001b[0m\u001b[0;34m\u001b[0m\u001b[0m\n\u001b[1;32m    353\u001b[0m             parse_constant is None and object_pairs_hook is None and not kw):\n\u001b[0;32m--> 354\u001b[0;31m         \u001b[0;32mreturn\u001b[0m \u001b[0m_default_decoder\u001b[0m\u001b[0;34m.\u001b[0m\u001b[0mdecode\u001b[0m\u001b[0;34m(\u001b[0m\u001b[0ms\u001b[0m\u001b[0;34m)\u001b[0m\u001b[0;34m\u001b[0m\u001b[0m\n\u001b[0m\u001b[1;32m    355\u001b[0m     \u001b[0;32mif\u001b[0m \u001b[0mcls\u001b[0m \u001b[0;32mis\u001b[0m \u001b[0;32mNone\u001b[0m\u001b[0;34m:\u001b[0m\u001b[0;34m\u001b[0m\u001b[0m\n\u001b[1;32m    356\u001b[0m         \u001b[0mcls\u001b[0m \u001b[0;34m=\u001b[0m \u001b[0mJSONDecoder\u001b[0m\u001b[0;34m\u001b[0m\u001b[0m\n",
      "\u001b[0;32m/anaconda3/lib/python3.6/json/decoder.py\u001b[0m in \u001b[0;36mdecode\u001b[0;34m(self, s, _w)\u001b[0m\n\u001b[1;32m    337\u001b[0m \u001b[0;34m\u001b[0m\u001b[0m\n\u001b[1;32m    338\u001b[0m         \"\"\"\n\u001b[0;32m--> 339\u001b[0;31m         \u001b[0mobj\u001b[0m\u001b[0;34m,\u001b[0m \u001b[0mend\u001b[0m \u001b[0;34m=\u001b[0m \u001b[0mself\u001b[0m\u001b[0;34m.\u001b[0m\u001b[0mraw_decode\u001b[0m\u001b[0;34m(\u001b[0m\u001b[0ms\u001b[0m\u001b[0;34m,\u001b[0m \u001b[0midx\u001b[0m\u001b[0;34m=\u001b[0m\u001b[0m_w\u001b[0m\u001b[0;34m(\u001b[0m\u001b[0ms\u001b[0m\u001b[0;34m,\u001b[0m \u001b[0;36m0\u001b[0m\u001b[0;34m)\u001b[0m\u001b[0;34m.\u001b[0m\u001b[0mend\u001b[0m\u001b[0;34m(\u001b[0m\u001b[0;34m)\u001b[0m\u001b[0;34m)\u001b[0m\u001b[0;34m\u001b[0m\u001b[0m\n\u001b[0m\u001b[1;32m    340\u001b[0m         \u001b[0mend\u001b[0m \u001b[0;34m=\u001b[0m \u001b[0m_w\u001b[0m\u001b[0;34m(\u001b[0m\u001b[0ms\u001b[0m\u001b[0;34m,\u001b[0m \u001b[0mend\u001b[0m\u001b[0;34m)\u001b[0m\u001b[0;34m.\u001b[0m\u001b[0mend\u001b[0m\u001b[0;34m(\u001b[0m\u001b[0;34m)\u001b[0m\u001b[0;34m\u001b[0m\u001b[0m\n\u001b[1;32m    341\u001b[0m         \u001b[0;32mif\u001b[0m \u001b[0mend\u001b[0m \u001b[0;34m!=\u001b[0m \u001b[0mlen\u001b[0m\u001b[0;34m(\u001b[0m\u001b[0ms\u001b[0m\u001b[0;34m)\u001b[0m\u001b[0;34m:\u001b[0m\u001b[0;34m\u001b[0m\u001b[0m\n",
      "\u001b[0;32m/anaconda3/lib/python3.6/json/decoder.py\u001b[0m in \u001b[0;36mraw_decode\u001b[0;34m(self, s, idx)\u001b[0m\n\u001b[1;32m    355\u001b[0m             \u001b[0mobj\u001b[0m\u001b[0;34m,\u001b[0m \u001b[0mend\u001b[0m \u001b[0;34m=\u001b[0m \u001b[0mself\u001b[0m\u001b[0;34m.\u001b[0m\u001b[0mscan_once\u001b[0m\u001b[0;34m(\u001b[0m\u001b[0ms\u001b[0m\u001b[0;34m,\u001b[0m \u001b[0midx\u001b[0m\u001b[0;34m)\u001b[0m\u001b[0;34m\u001b[0m\u001b[0m\n\u001b[1;32m    356\u001b[0m         \u001b[0;32mexcept\u001b[0m \u001b[0mStopIteration\u001b[0m \u001b[0;32mas\u001b[0m \u001b[0merr\u001b[0m\u001b[0;34m:\u001b[0m\u001b[0;34m\u001b[0m\u001b[0m\n\u001b[0;32m--> 357\u001b[0;31m             \u001b[0;32mraise\u001b[0m \u001b[0mJSONDecodeError\u001b[0m\u001b[0;34m(\u001b[0m\u001b[0;34m\"Expecting value\"\u001b[0m\u001b[0;34m,\u001b[0m \u001b[0ms\u001b[0m\u001b[0;34m,\u001b[0m \u001b[0merr\u001b[0m\u001b[0;34m.\u001b[0m\u001b[0mvalue\u001b[0m\u001b[0;34m)\u001b[0m \u001b[0;32mfrom\u001b[0m \u001b[0;32mNone\u001b[0m\u001b[0;34m\u001b[0m\u001b[0m\n\u001b[0m\u001b[1;32m    358\u001b[0m         \u001b[0;32mreturn\u001b[0m \u001b[0mobj\u001b[0m\u001b[0;34m,\u001b[0m \u001b[0mend\u001b[0m\u001b[0;34m\u001b[0m\u001b[0m\n",
      "\u001b[0;31mJSONDecodeError\u001b[0m: Expecting value: line 1 column 19 (char 18)"
     ]
    }
   ],
   "source": [
    "from convokit import Corpus, download\n",
    "corpus = Corpus(filename=(\"persuasion_corpus\"))"
   ]
  },
  {
   "cell_type": "code",
   "execution_count": 72,
   "metadata": {},
   "outputs": [],
   "source": [
    "from collections import Counter\n",
    "seen = Counter()\n",
    "counts = Counter()\n",
    "donations = {}\n",
    "for utterance in persuasion_corpus.utterances.values():\n",
    "    if utterance.meta['role'] == 0:\n",
    "        seen[utterance.meta['dialogue_id']] += sum(utterance.meta['politeness_strategies'].values())\n",
    "        counts[utterance.meta['dialogue_id']] +=1\n",
    "        donations[utterance.meta['dialogue_id']] = utterance.user.meta[utterance.meta['dialogue_id']]['donation_amt']"
   ]
  },
  {
   "cell_type": "code",
   "execution_count": 73,
   "metadata": {},
   "outputs": [],
   "source": [
    "for k, v in seen.items():\n",
    "    seen[k] = v/counts[k]"
   ]
  },
  {
   "cell_type": "code",
   "execution_count": 67,
   "metadata": {},
   "outputs": [],
   "source": [
    "import scipy"
   ]
  },
  {
   "cell_type": "code",
   "execution_count": 74,
   "metadata": {},
   "outputs": [
    {
     "data": {
      "text/plain": [
       "(-0.14033209472628147, 7.055949627164124e-06)"
      ]
     },
     "execution_count": 74,
     "metadata": {},
     "output_type": "execute_result"
    }
   ],
   "source": [
    "for \n",
    "scipy.stats.pearsonr(np.array(list(seen.values())),[float(i) for i in donations.values()])"
   ]
  },
  {
   "cell_type": "code",
   "execution_count": null,
   "metadata": {},
   "outputs": [],
   "source": []
  },
  {
   "cell_type": "code",
   "execution_count": null,
   "metadata": {},
   "outputs": [],
   "source": []
  }
 ],
 "metadata": {
  "kernelspec": {
   "display_name": "Python 3",
   "language": "python",
   "name": "python3"
  },
  "language_info": {
   "codemirror_mode": {
    "name": "ipython",
    "version": 3
   },
   "file_extension": ".py",
   "mimetype": "text/x-python",
   "name": "python",
   "nbconvert_exporter": "python",
   "pygments_lexer": "ipython3",
   "version": "3.6.5"
  }
 },
 "nbformat": 4,
 "nbformat_minor": 2
}
