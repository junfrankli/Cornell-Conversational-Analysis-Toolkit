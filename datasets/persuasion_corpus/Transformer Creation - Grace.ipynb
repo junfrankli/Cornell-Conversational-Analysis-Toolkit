{
 "cells": [
  {
   "cell_type": "code",
   "execution_count": 6,
   "metadata": {},
   "outputs": [],
   "source": [
    "from tqdm import tqdm\n",
    "import os\n",
    "os.chdir('/Users/grace/Cornell-Conversational-Analysis-Toolkit/')\n",
    "from convokit import Corpus, User, Utterance"
   ]
  },
  {
   "cell_type": "code",
   "execution_count": 7,
   "metadata": {},
   "outputs": [],
   "source": [
    "os.chdir('/Users/grace/Cornell-Conversational-Analysis-Toolkit/datasets/')\n",
    "corpus = Corpus(filename='persuasion_corpus/corpus')\n",
    "persuasioncorpus = corpus #Have to rename corpus as persuasion corpus so as not to mess up internal functions for later"
   ]
  },
  {
   "cell_type": "code",
   "execution_count": null,
   "metadata": {},
   "outputs": [],
   "source": []
  },
  {
   "cell_type": "code",
   "execution_count": 8,
   "metadata": {},
   "outputs": [
    {
     "name": "stdout",
     "output_type": "stream",
     "text": [
      "Number of Users: 1285\n",
      "Number of Utterances: 20932\n",
      "Number of Conversations: 1017\n"
     ]
    }
   ],
   "source": [
    "corpus.print_summary_stats()"
   ]
  },
  {
   "cell_type": "code",
   "execution_count": 4,
   "metadata": {},
   "outputs": [
    {
     "data": {
      "text/plain": [
       "['__class__',\n",
       " '__delattr__',\n",
       " '__dict__',\n",
       " '__dir__',\n",
       " '__doc__',\n",
       " '__eq__',\n",
       " '__format__',\n",
       " '__ge__',\n",
       " '__getattribute__',\n",
       " '__gt__',\n",
       " '__hash__',\n",
       " '__init__',\n",
       " '__init_subclass__',\n",
       " '__le__',\n",
       " '__lt__',\n",
       " '__module__',\n",
       " '__ne__',\n",
       " '__new__',\n",
       " '__reduce__',\n",
       " '__reduce_ex__',\n",
       " '__repr__',\n",
       " '__setattr__',\n",
       " '__sizeof__',\n",
       " '__str__',\n",
       " '__subclasshook__',\n",
       " '__weakref__',\n",
       " '_collect_user_data',\n",
       " '_merge_utterances',\n",
       " '_update_corpus_user_data',\n",
       " 'add_meta',\n",
       " 'add_utterances',\n",
       " 'all_users',\n",
       " 'conversations',\n",
       " 'dump',\n",
       " 'dump_helper_bin',\n",
       " 'filter_utterances_by',\n",
       " 'get_conversation',\n",
       " 'get_conversation_ids',\n",
       " 'get_meta',\n",
       " 'get_user',\n",
       " 'get_usernames',\n",
       " 'get_utterance',\n",
       " 'get_utterance_ids',\n",
       " 'iter_conversations',\n",
       " 'iter_users',\n",
       " 'iter_utterances',\n",
       " 'iterate_by',\n",
       " 'merge',\n",
       " 'meta',\n",
       " 'meta_index',\n",
       " 'original_corpus_path',\n",
       " 'pairwise_exchanges',\n",
       " 'print_summary_stats',\n",
       " 'speaking_pairs',\n",
       " 'update_users_data',\n",
       " 'utterance_threads',\n",
       " 'utterances',\n",
       " 'version']"
      ]
     },
     "execution_count": 4,
     "metadata": {},
     "output_type": "execute_result"
    }
   ],
   "source": [
    "dir(corpus)"
   ]
  },
  {
   "cell_type": "markdown",
   "metadata": {},
   "source": [
    "## Average Number of Questions Per Conversation"
   ]
  },
  {
   "cell_type": "code",
   "execution_count": 5,
   "metadata": {},
   "outputs": [],
   "source": [
    "import re\n",
    "import numpy as np"
   ]
  },
  {
   "cell_type": "code",
   "execution_count": 6,
   "metadata": {},
   "outputs": [
    {
     "ename": "NameError",
     "evalue": "name 'questions' is not defined",
     "output_type": "error",
     "traceback": [
      "\u001b[0;31m---------------------------------------------------------------------------\u001b[0m",
      "\u001b[0;31mNameError\u001b[0m                                 Traceback (most recent call last)",
      "\u001b[0;32m<ipython-input-6-550e3bba68ac>\u001b[0m in \u001b[0;36m<module>\u001b[0;34m\u001b[0m\n\u001b[0;32m----> 1\u001b[0;31m \u001b[0mnp\u001b[0m\u001b[0;34m.\u001b[0m\u001b[0mmean\u001b[0m\u001b[0;34m(\u001b[0m\u001b[0mnp\u001b[0m\u001b[0;34m.\u001b[0m\u001b[0masarray\u001b[0m\u001b[0;34m(\u001b[0m\u001b[0mquestions\u001b[0m\u001b[0;34m)\u001b[0m\u001b[0;34m[\u001b[0m\u001b[0mnp\u001b[0m\u001b[0;34m.\u001b[0m\u001b[0masarray\u001b[0m\u001b[0;34m(\u001b[0m\u001b[0mcorpus\u001b[0m\u001b[0;34m.\u001b[0m\u001b[0mget_conversation\u001b[0m\u001b[0;34m(\u001b[0m\u001b[0;36m0\u001b[0m\u001b[0;34m)\u001b[0m\u001b[0;34m.\u001b[0m\u001b[0m_utterance_ids\u001b[0m\u001b[0;34m)\u001b[0m\u001b[0;34m]\u001b[0m\u001b[0;34m)\u001b[0m\u001b[0;34m\u001b[0m\u001b[0;34m\u001b[0m\u001b[0m\n\u001b[0m",
      "\u001b[0;31mNameError\u001b[0m: name 'questions' is not defined"
     ]
    }
   ],
   "source": [
    "np.mean(np.asarray(questions)[np.asarray(corpus.get_conversation(0)._utterance_ids)])"
   ]
  },
  {
   "cell_type": "code",
   "execution_count": 7,
   "metadata": {},
   "outputs": [],
   "source": [
    "questions = []\n",
    "allutterids = corpus.get_utterance_ids()\n",
    "for i in list(range(0, len(allutterids))):\n",
    "    utter_id = allutterids[i]\n",
    "    text = corpus.get_utterance(utter_id).text\n",
    "    nquestions = len(re.findall(r'\\?+', text))\n",
    "    questions.append(nquestions) #gives number of questions in each utterance\n"
   ]
  },
  {
   "cell_type": "code",
   "execution_count": 8,
   "metadata": {},
   "outputs": [],
   "source": [
    "allconvoids = corpus.get_conversation_ids()\n",
    "for i in list(range(0, len(allconvoids))):\n",
    "    convo_id = allconvoids[i]\n",
    "    convo_utters = corpus.get_conversation(convo_id)._utterance_ids\n",
    "    avgquestion = np.mean(np.asarray(questions)[np.asarray(convo_utters)])\n",
    "    corpus.get_conversation(convo_id)._meta[\"Avg Questions\"] = avgquestion\n",
    "    "
   ]
  },
  {
   "cell_type": "code",
   "execution_count": 9,
   "metadata": {},
   "outputs": [
    {
     "data": {
      "text/plain": [
       "Conversation({'_owner': <convokit.model.corpus.Corpus object at 0x1a207bc390>, '_id': 0, '_utterance_ids': [0, 1, 2, 3, 4, 5, 6, 7, 8, 9, 10, 11, 12, 13, 14, 15, 16, 17, 18, 19, 20], '_usernames': None, '_meta': {'Avg Questions': 0.38095238095238093}})"
      ]
     },
     "execution_count": 9,
     "metadata": {},
     "output_type": "execute_result"
    }
   ],
   "source": [
    "corpus.get_conversation(0)"
   ]
  },
  {
   "cell_type": "markdown",
   "metadata": {},
   "source": [
    "Things to do now:\n",
    "1. Put this function into the avgQuestions.py\n",
    "2. Test calling on this transformer and seeing if it gives results correctly"
   ]
  },
  {
   "cell_type": "code",
   "execution_count": 10,
   "metadata": {},
   "outputs": [],
   "source": [
    "from convokit import avgQuestions"
   ]
  },
  {
   "cell_type": "code",
   "execution_count": 11,
   "metadata": {},
   "outputs": [
    {
     "data": {
      "text/plain": [
       "convokit.avgQuestions.avgQuestions.AvgQuestions"
      ]
     },
     "execution_count": 11,
     "metadata": {},
     "output_type": "execute_result"
    }
   ],
   "source": [
    "avgQuestions.AvgQuestions"
   ]
  },
  {
   "cell_type": "code",
   "execution_count": 12,
   "metadata": {
    "scrolled": true
   },
   "outputs": [],
   "source": [
    "nQuestions = avgQuestions.AvgQuestions()\n",
    "corpus2 = nQuestions.transform(persuasioncorpus)"
   ]
  },
  {
   "cell_type": "code",
   "execution_count": 13,
   "metadata": {},
   "outputs": [
    {
     "data": {
      "text/plain": [
       "Conversation({'_owner': <convokit.model.corpus.Corpus object at 0x1a207bc390>, '_id': 0, '_utterance_ids': [0, 1, 2, 3, 4, 5, 6, 7, 8, 9, 10, 11, 12, 13, 14, 15, 16, 17, 18, 19, 20], '_usernames': None, '_meta': {'Avg Questions': 0.38095238095238093, 'AvgQuestions': 0.38095238095238093}})"
      ]
     },
     "execution_count": 13,
     "metadata": {},
     "output_type": "execute_result"
    }
   ],
   "source": [
    "corpus2.get_conversation(0) #Matches results!"
   ]
  },
  {
   "cell_type": "markdown",
   "metadata": {},
   "source": [
    "## Creating Hesitancy Measure"
   ]
  },
  {
   "cell_type": "code",
   "execution_count": 41,
   "metadata": {},
   "outputs": [
    {
     "data": {
      "text/plain": [
       "5"
      ]
     },
     "execution_count": 41,
     "metadata": {},
     "output_type": "execute_result"
    }
   ],
   "source": [
    "pause_words = ['um', 'umm', 'ummm', 'uh', 'uhh', 'uhhh', 'hm', 'hmm', 'hmmm', 'er', 'err', 'uh huh', 'huh',\n",
    "               'mhm', 'mhmm', 'erm', '...', 'ah', 'ahh', 'ahem', 'eh', 'ehh', 'ehhh', 'meh']\n",
    "hesitant_words = ['maybe', 'not',  'sure', 'unsure', 'probably', 'well', 'okay', 'like', 'actually', \n",
    "                   'basically', 'seriously', 'totally', 'literally', 'know', 'mean', \n",
    "                   'guess', 'suppose', 'but', 'something', 'so', 'wow', 'just', 'really', \n",
    "                  'later', 'wait', 'future', 'almost', 'slightly', 'perhaps', 'somehow', \n",
    "                 'sort', 'kind', 'little', 'somewhat', 'hey', 'alas', 'see', 'sounds', 'ok',\n",
    "                 'roughly', 'why', 'how', 'yep', 'yup', 'may', 'possibly', 'might', 'could', 'doubt',\n",
    "                 'skeptical', 'don\\'t', 'won\\'t', 'nah']\n",
    "text = \"trial string something random*#&$ dkj okay@ now what? hey sounds literally\"\n",
    "textcleaned = \"\".join(c for c in text if c not in ('!','.',':', '?', '\\'', ',', '\\\"', '@', '#', '$', '%', \n",
    "                                                       '^', '&', '*', '(', ')', '-', '~', '`', '_', '+', '=', \n",
    "                                                       '>', '<', '[', ']', '{', '}'))\n",
    "textlist = textcleaned.split()\n",
    "textsubset = [i for i in textlist if i in hesitant_words]\n",
    "len(textsubset)"
   ]
  },
  {
   "cell_type": "code",
   "execution_count": 42,
   "metadata": {},
   "outputs": [],
   "source": [
    "pause = []\n",
    "hesitancy = []\n",
    "allutterids = corpus.get_utterance_ids()\n",
    "for i in list(range(0, len(allutterids))):\n",
    "    utter_id = allutterids[i]\n",
    "    text = corpus.get_utterance(utter_id).text\n",
    "    textcleaned = \"\".join(c for c in text if c not in ('!','.',':', '?', '\\'', ',', '\\\"', '@', '#', '$', '%', \n",
    "                                                       '^', '&', '*', '(', ')', '-', '~', '`', '_', '+', '=', \n",
    "                                                       '>', '<', '[', ']', '{', '}'))\n",
    "    textlist = textcleaned.split()\n",
    "    npause = len([i for i in textlist if i in pause_words])\n",
    "    nhesitant = len([i for i in textlist if i in hesitant_words])\n",
    "    pause.append(npause) #gives number of pause words in each utterance\n",
    "    hesitancy.append(nhesitant) #gives number of hesitant words in each utterance\n",
    "    corpus.get_utterance(utter_id).meta['Pause'] = npause\n",
    "    corpus.get_utterance(utter_id).meta['Hesitancy'] = nhesitant"
   ]
  },
  {
   "cell_type": "code",
   "execution_count": 43,
   "metadata": {},
   "outputs": [
    {
     "name": "stdout",
     "output_type": "stream",
     "text": [
      "0.8692432639021593\n",
      "0.0009077011274603477\n"
     ]
    },
    {
     "data": {
      "text/plain": [
       "15"
      ]
     },
     "execution_count": 43,
     "metadata": {},
     "output_type": "execute_result"
    }
   ],
   "source": [
    "import numpy as np\n",
    "print(np.mean(np.asarray(hesitancy)))\n",
    "print(np.mean(np.asarray(pause)))\n",
    "np.sum(np.asarray(hesitancy)[0:19])"
   ]
  },
  {
   "cell_type": "code",
   "execution_count": 45,
   "metadata": {},
   "outputs": [
    {
     "data": {
      "text/plain": [
       "Utterance({'id': 0, 'user': User([('name', 'A3A07QA5U733HQ')]), 'root': 0, 'reply_to': None, 'timestamp': None, 'text': 'Good morning. How are you doing today?', 'meta': {'role': 0, 'turn_index': 0, 'dialogue_id': '20180904-045349_715_live', 'er_label_1': 'greeting', 'ee_label_1': None, 'er_label_2': None, 'neg': 0.0, 'neu': 1.0, 'pos': 0.0, 'Pause': 0, 'Hesitancy': 0}})"
      ]
     },
     "execution_count": 45,
     "metadata": {},
     "output_type": "execute_result"
    }
   ],
   "source": [
    "corpus.get_utterance(0)"
   ]
  },
  {
   "cell_type": "code",
   "execution_count": 46,
   "metadata": {},
   "outputs": [],
   "source": [
    "allconvoids = corpus.get_conversation_ids()\n",
    "for i in list(range(0, len(allconvoids))):\n",
    "    convo_id = allconvoids[i]\n",
    "    convo_utters = corpus.get_conversation(convo_id)._utterance_ids\n",
    "    avgpause = np.mean(np.asarray(pause)[np.asarray(convo_utters)])\n",
    "    avghesitancy = np.mean(np.asarray(hesitancy)[np.asarray(convo_utters)])\n",
    "    corpus.get_conversation(convo_id)._meta[\"Avg Pause\"] = avgpause\n",
    "    corpus.get_conversation(convo_id)._meta[\"Avg Hesitancy\"] = avghesitancy\n",
    "    "
   ]
  },
  {
   "cell_type": "code",
   "execution_count": 47,
   "metadata": {},
   "outputs": [
    {
     "data": {
      "text/plain": [
       "Conversation({'_owner': <convokit.model.corpus.Corpus object at 0x10a07bd68>, '_id': 0, '_utterance_ids': [0, 1, 2, 3, 4, 5, 6, 7, 8, 9, 10, 11, 12, 13, 14, 15, 16, 17, 18, 19, 20], '_usernames': None, '_meta': {'Avg Pause': 0.0, 'Avg Hesitancy': 0.8095238095238095}})"
      ]
     },
     "execution_count": 47,
     "metadata": {},
     "output_type": "execute_result"
    }
   ],
   "source": [
    "corpus.get_conversation(0)"
   ]
  },
  {
   "cell_type": "code",
   "execution_count": null,
   "metadata": {},
   "outputs": [],
   "source": []
  },
  {
   "cell_type": "code",
   "execution_count": 35,
   "metadata": {},
   "outputs": [],
   "source": [
    "from convokit import hesitancy"
   ]
  },
  {
   "cell_type": "code",
   "execution_count": 36,
   "metadata": {},
   "outputs": [
    {
     "data": {
      "text/plain": [
       "convokit.hesitancy.hesitancy.hesitancy"
      ]
     },
     "execution_count": 36,
     "metadata": {},
     "output_type": "execute_result"
    }
   ],
   "source": [
    "hesitancy.hesitancy"
   ]
  },
  {
   "cell_type": "code",
   "execution_count": 37,
   "metadata": {},
   "outputs": [],
   "source": [
    "h = hesitancy.hesitancy()\n",
    "corpus3 = h.transform(persuasioncorpus)"
   ]
  },
  {
   "cell_type": "code",
   "execution_count": 39,
   "metadata": {},
   "outputs": [
    {
     "data": {
      "text/plain": [
       "Utterance({'id': 0, 'user': User([('name', 'A3A07QA5U733HQ')]), 'root': 0, 'reply_to': None, 'timestamp': None, 'text': 'Good morning. How are you doing today?', 'meta': {'role': 0, 'turn_index': 0, 'dialogue_id': '20180904-045349_715_live', 'er_label_1': 'greeting', 'ee_label_1': None, 'er_label_2': None, 'neg': 0.0, 'neu': 1.0, 'pos': 0.0, 'Pause': 0, 'Hesitancy': 0}})"
      ]
     },
     "execution_count": 39,
     "metadata": {},
     "output_type": "execute_result"
    }
   ],
   "source": [
    "corpus3.get_utterance(0) #result matches!"
   ]
  },
  {
   "cell_type": "code",
   "execution_count": 40,
   "metadata": {},
   "outputs": [
    {
     "data": {
      "text/plain": [
       "Conversation({'_owner': <convokit.model.corpus.Corpus object at 0x10a07bd68>, '_id': 0, '_utterance_ids': [0, 1, 2, 3, 4, 5, 6, 7, 8, 9, 10, 11, 12, 13, 14, 15, 16, 17, 18, 19, 20], '_usernames': None, '_meta': {'Avg Pause': 0.0, 'Avg Hesitancy': 0.8095238095238095}})"
      ]
     },
     "execution_count": 40,
     "metadata": {},
     "output_type": "execute_result"
    }
   ],
   "source": [
    "corpus3.get_conversation(0) #result matches!"
   ]
  },
  {
   "cell_type": "code",
   "execution_count": null,
   "metadata": {},
   "outputs": [],
   "source": []
  }
 ],
 "metadata": {
  "kernelspec": {
   "display_name": "Python 3",
   "language": "python",
   "name": "python3"
  },
  "language_info": {
   "codemirror_mode": {
    "name": "ipython",
    "version": 3
   },
   "file_extension": ".py",
   "mimetype": "text/x-python",
   "name": "python",
   "nbconvert_exporter": "python",
   "pygments_lexer": "ipython3",
   "version": "3.7.1"
  }
 },
 "nbformat": 4,
 "nbformat_minor": 2
}
