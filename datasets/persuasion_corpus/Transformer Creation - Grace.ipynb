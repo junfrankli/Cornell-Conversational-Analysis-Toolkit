{
 "cells": [
  {
   "cell_type": "code",
   "execution_count": 6,
   "metadata": {},
   "outputs": [],
   "source": [
    "from tqdm import tqdm\n",
    "import os\n",
    "os.chdir('/Users/grace/Cornell-Conversational-Analysis-Toolkit/')\n",
    "from convokit import Corpus, User, Utterance"
   ]
  },
  {
   "cell_type": "code",
   "execution_count": 58,
   "metadata": {},
   "outputs": [],
   "source": [
    "os.chdir('/Users/grace/Cornell-Conversational-Analysis-Toolkit/datasets/')\n",
    "corpus = Corpus(filename='persuasion_corpus/corpus')\n",
    "persuasioncorpus = corpus #Have to rename corpus as persuasion corpus so as not to mess up internal functions for later"
   ]
  },
  {
   "cell_type": "code",
   "execution_count": 49,
   "metadata": {},
   "outputs": [],
   "source": [
    "corpustest = Corpus(filename='persuasion_corpus/corpus')"
   ]
  },
  {
   "cell_type": "code",
   "execution_count": null,
   "metadata": {},
   "outputs": [],
   "source": []
  },
  {
   "cell_type": "code",
   "execution_count": 8,
   "metadata": {},
   "outputs": [
    {
     "name": "stdout",
     "output_type": "stream",
     "text": [
      "Number of Users: 1285\n",
      "Number of Utterances: 20932\n",
      "Number of Conversations: 1017\n"
     ]
    }
   ],
   "source": [
    "corpus.print_summary_stats()"
   ]
  },
  {
   "cell_type": "code",
   "execution_count": null,
   "metadata": {},
   "outputs": [],
   "source": []
  },
  {
   "cell_type": "markdown",
   "metadata": {},
   "source": [
    "## Average Number of Questions Per Conversation"
   ]
  },
  {
   "cell_type": "code",
   "execution_count": 5,
   "metadata": {},
   "outputs": [],
   "source": [
    "import re\n",
    "import numpy as np"
   ]
  },
  {
   "cell_type": "code",
   "execution_count": 6,
   "metadata": {},
   "outputs": [
    {
     "ename": "NameError",
     "evalue": "name 'questions' is not defined",
     "output_type": "error",
     "traceback": [
      "\u001b[0;31m---------------------------------------------------------------------------\u001b[0m",
      "\u001b[0;31mNameError\u001b[0m                                 Traceback (most recent call last)",
      "\u001b[0;32m<ipython-input-6-550e3bba68ac>\u001b[0m in \u001b[0;36m<module>\u001b[0;34m\u001b[0m\n\u001b[0;32m----> 1\u001b[0;31m \u001b[0mnp\u001b[0m\u001b[0;34m.\u001b[0m\u001b[0mmean\u001b[0m\u001b[0;34m(\u001b[0m\u001b[0mnp\u001b[0m\u001b[0;34m.\u001b[0m\u001b[0masarray\u001b[0m\u001b[0;34m(\u001b[0m\u001b[0mquestions\u001b[0m\u001b[0;34m)\u001b[0m\u001b[0;34m[\u001b[0m\u001b[0mnp\u001b[0m\u001b[0;34m.\u001b[0m\u001b[0masarray\u001b[0m\u001b[0;34m(\u001b[0m\u001b[0mcorpus\u001b[0m\u001b[0;34m.\u001b[0m\u001b[0mget_conversation\u001b[0m\u001b[0;34m(\u001b[0m\u001b[0;36m0\u001b[0m\u001b[0;34m)\u001b[0m\u001b[0;34m.\u001b[0m\u001b[0m_utterance_ids\u001b[0m\u001b[0;34m)\u001b[0m\u001b[0;34m]\u001b[0m\u001b[0;34m)\u001b[0m\u001b[0;34m\u001b[0m\u001b[0;34m\u001b[0m\u001b[0m\n\u001b[0m",
      "\u001b[0;31mNameError\u001b[0m: name 'questions' is not defined"
     ]
    }
   ],
   "source": [
    "np.mean(np.asarray(questions)[np.asarray(corpus.get_conversation(0)._utterance_ids)])"
   ]
  },
  {
   "cell_type": "code",
   "execution_count": 7,
   "metadata": {},
   "outputs": [],
   "source": [
    "questions = []\n",
    "allutterids = corpus.get_utterance_ids()\n",
    "for i in list(range(0, len(allutterids))):\n",
    "    utter_id = allutterids[i]\n",
    "    text = corpus.get_utterance(utter_id).text\n",
    "    nquestions = len(re.findall(r'\\?+', text))\n",
    "    questions.append(nquestions) #gives number of questions in each utterance\n"
   ]
  },
  {
   "cell_type": "code",
   "execution_count": 8,
   "metadata": {},
   "outputs": [],
   "source": [
    "allconvoids = corpus.get_conversation_ids()\n",
    "for i in list(range(0, len(allconvoids))):\n",
    "    convo_id = allconvoids[i]\n",
    "    convo_utters = corpus.get_conversation(convo_id)._utterance_ids\n",
    "    avgquestion = np.mean(np.asarray(questions)[np.asarray(convo_utters)])\n",
    "    corpus.get_conversation(convo_id)._meta[\"Avg Questions\"] = avgquestion\n",
    "    "
   ]
  },
  {
   "cell_type": "code",
   "execution_count": 9,
   "metadata": {},
   "outputs": [
    {
     "data": {
      "text/plain": [
       "Conversation({'_owner': <convokit.model.corpus.Corpus object at 0x1a207bc390>, '_id': 0, '_utterance_ids': [0, 1, 2, 3, 4, 5, 6, 7, 8, 9, 10, 11, 12, 13, 14, 15, 16, 17, 18, 19, 20], '_usernames': None, '_meta': {'Avg Questions': 0.38095238095238093}})"
      ]
     },
     "execution_count": 9,
     "metadata": {},
     "output_type": "execute_result"
    }
   ],
   "source": [
    "corpus.get_conversation(0)"
   ]
  },
  {
   "cell_type": "markdown",
   "metadata": {},
   "source": [
    "Things to do now:\n",
    "1. Put this function into the avgQuestions.py\n",
    "2. Test calling on this transformer and seeing if it gives results correctly"
   ]
  },
  {
   "cell_type": "code",
   "execution_count": 10,
   "metadata": {},
   "outputs": [],
   "source": [
    "from convokit import avgQuestions"
   ]
  },
  {
   "cell_type": "code",
   "execution_count": 11,
   "metadata": {},
   "outputs": [
    {
     "data": {
      "text/plain": [
       "convokit.avgQuestions.avgQuestions.AvgQuestions"
      ]
     },
     "execution_count": 11,
     "metadata": {},
     "output_type": "execute_result"
    }
   ],
   "source": [
    "avgQuestions.AvgQuestions"
   ]
  },
  {
   "cell_type": "code",
   "execution_count": 12,
   "metadata": {
    "scrolled": true
   },
   "outputs": [],
   "source": [
    "nQuestions = avgQuestions.AvgQuestions()\n",
    "corpus2 = nQuestions.transform(persuasioncorpus)"
   ]
  },
  {
   "cell_type": "code",
   "execution_count": 13,
   "metadata": {},
   "outputs": [
    {
     "data": {
      "text/plain": [
       "Conversation({'_owner': <convokit.model.corpus.Corpus object at 0x1a207bc390>, '_id': 0, '_utterance_ids': [0, 1, 2, 3, 4, 5, 6, 7, 8, 9, 10, 11, 12, 13, 14, 15, 16, 17, 18, 19, 20], '_usernames': None, '_meta': {'Avg Questions': 0.38095238095238093, 'AvgQuestions': 0.38095238095238093}})"
      ]
     },
     "execution_count": 13,
     "metadata": {},
     "output_type": "execute_result"
    }
   ],
   "source": [
    "corpus2.get_conversation(0) #Matches results!"
   ]
  },
  {
   "cell_type": "markdown",
   "metadata": {},
   "source": [
    "## Creating Hesitancy Measure"
   ]
  },
  {
   "cell_type": "code",
   "execution_count": 41,
   "metadata": {},
   "outputs": [
    {
     "data": {
      "text/plain": [
       "5"
      ]
     },
     "execution_count": 41,
     "metadata": {},
     "output_type": "execute_result"
    }
   ],
   "source": [
    "pause_words = ['um', 'umm', 'ummm', 'uh', 'uhh', 'uhhh', 'hm', 'hmm', 'hmmm', 'er', 'err', 'uh huh', 'huh',\n",
    "               'mhm', 'mhmm', 'erm', '...', 'ah', 'ahh', 'ahem', 'eh', 'ehh', 'ehhh', 'meh']\n",
    "hesitant_words = ['maybe', 'not',  'sure', 'unsure', 'probably', 'well', 'okay', 'like', 'actually', \n",
    "                   'basically', 'seriously', 'totally', 'literally', 'know', 'mean', \n",
    "                   'guess', 'suppose', 'but', 'something', 'so', 'wow', 'just', 'really', \n",
    "                  'later', 'wait', 'future', 'almost', 'slightly', 'perhaps', 'somehow', \n",
    "                 'sort', 'kind', 'little', 'somewhat', 'hey', 'alas', 'see', 'sounds', 'ok',\n",
    "                 'roughly', 'why', 'how', 'yep', 'yup', 'may', 'possibly', 'might', 'could', 'doubt',\n",
    "                 'skeptical', 'don\\'t', 'won\\'t', 'nah']\n",
    "text = \"trial string something random*#&$ dkj okay@ now what? hey sounds literally\"\n",
    "textcleaned = \"\".join(c for c in text if c not in ('!','.',':', '?', '\\'', ',', '\\\"', '@', '#', '$', '%', \n",
    "                                                       '^', '&', '*', '(', ')', '-', '~', '`', '_', '+', '=', \n",
    "                                                       '>', '<', '[', ']', '{', '}'))\n",
    "textlist = textcleaned.split()\n",
    "textsubset = [i for i in textlist if i in hesitant_words]\n",
    "len(textsubset)"
   ]
  },
  {
   "cell_type": "code",
   "execution_count": 42,
   "metadata": {},
   "outputs": [],
   "source": [
    "pause = []\n",
    "hesitancy = []\n",
    "allutterids = corpus.get_utterance_ids()\n",
    "for i in list(range(0, len(allutterids))):\n",
    "    utter_id = allutterids[i]\n",
    "    text = corpus.get_utterance(utter_id).text\n",
    "    textcleaned = \"\".join(c for c in text if c not in ('!','.',':', '?', '\\'', ',', '\\\"', '@', '#', '$', '%', \n",
    "                                                       '^', '&', '*', '(', ')', '-', '~', '`', '_', '+', '=', \n",
    "                                                       '>', '<', '[', ']', '{', '}'))\n",
    "    textlist = textcleaned.split()\n",
    "    npause = len([i for i in textlist if i in pause_words])\n",
    "    nhesitant = len([i for i in textlist if i in hesitant_words])\n",
    "    pause.append(npause) #gives number of pause words in each utterance\n",
    "    hesitancy.append(nhesitant) #gives number of hesitant words in each utterance\n",
    "    corpus.get_utterance(utter_id).meta['Pause'] = npause\n",
    "    corpus.get_utterance(utter_id).meta['Hesitancy'] = nhesitant"
   ]
  },
  {
   "cell_type": "code",
   "execution_count": 43,
   "metadata": {},
   "outputs": [
    {
     "name": "stdout",
     "output_type": "stream",
     "text": [
      "0.8692432639021593\n",
      "0.0009077011274603477\n"
     ]
    },
    {
     "data": {
      "text/plain": [
       "15"
      ]
     },
     "execution_count": 43,
     "metadata": {},
     "output_type": "execute_result"
    }
   ],
   "source": [
    "import numpy as np\n",
    "print(np.mean(np.asarray(hesitancy)))\n",
    "print(np.mean(np.asarray(pause)))\n",
    "np.sum(np.asarray(hesitancy)[0:19])"
   ]
  },
  {
   "cell_type": "code",
   "execution_count": 45,
   "metadata": {},
   "outputs": [
    {
     "data": {
      "text/plain": [
       "Utterance({'id': 0, 'user': User([('name', 'A3A07QA5U733HQ')]), 'root': 0, 'reply_to': None, 'timestamp': None, 'text': 'Good morning. How are you doing today?', 'meta': {'role': 0, 'turn_index': 0, 'dialogue_id': '20180904-045349_715_live', 'er_label_1': 'greeting', 'ee_label_1': None, 'er_label_2': None, 'neg': 0.0, 'neu': 1.0, 'pos': 0.0, 'Pause': 0, 'Hesitancy': 0}})"
      ]
     },
     "execution_count": 45,
     "metadata": {},
     "output_type": "execute_result"
    }
   ],
   "source": [
    "corpus.get_utterance(0)"
   ]
  },
  {
   "cell_type": "code",
   "execution_count": 46,
   "metadata": {},
   "outputs": [],
   "source": [
    "allconvoids = corpus.get_conversation_ids()\n",
    "for i in list(range(0, len(allconvoids))):\n",
    "    convo_id = allconvoids[i]\n",
    "    convo_utters = corpus.get_conversation(convo_id)._utterance_ids\n",
    "    avgpause = np.mean(np.asarray(pause)[np.asarray(convo_utters)])\n",
    "    avghesitancy = np.mean(np.asarray(hesitancy)[np.asarray(convo_utters)])\n",
    "    corpus.get_conversation(convo_id)._meta[\"Avg Pause\"] = avgpause\n",
    "    corpus.get_conversation(convo_id)._meta[\"Avg Hesitancy\"] = avghesitancy\n",
    "    "
   ]
  },
  {
   "cell_type": "code",
   "execution_count": 47,
   "metadata": {},
   "outputs": [
    {
     "data": {
      "text/plain": [
       "Conversation({'_owner': <convokit.model.corpus.Corpus object at 0x10a07bd68>, '_id': 0, '_utterance_ids': [0, 1, 2, 3, 4, 5, 6, 7, 8, 9, 10, 11, 12, 13, 14, 15, 16, 17, 18, 19, 20], '_usernames': None, '_meta': {'Avg Pause': 0.0, 'Avg Hesitancy': 0.8095238095238095}})"
      ]
     },
     "execution_count": 47,
     "metadata": {},
     "output_type": "execute_result"
    }
   ],
   "source": [
    "corpus.get_conversation(0)"
   ]
  },
  {
   "cell_type": "code",
   "execution_count": null,
   "metadata": {},
   "outputs": [],
   "source": []
  },
  {
   "cell_type": "code",
   "execution_count": 35,
   "metadata": {},
   "outputs": [],
   "source": [
    "from convokit import hesitancy"
   ]
  },
  {
   "cell_type": "code",
   "execution_count": 36,
   "metadata": {},
   "outputs": [
    {
     "data": {
      "text/plain": [
       "convokit.hesitancy.hesitancy.hesitancy"
      ]
     },
     "execution_count": 36,
     "metadata": {},
     "output_type": "execute_result"
    }
   ],
   "source": [
    "hesitancy.hesitancy"
   ]
  },
  {
   "cell_type": "code",
   "execution_count": 37,
   "metadata": {},
   "outputs": [],
   "source": [
    "h = hesitancy.hesitancy()\n",
    "corpus3 = h.transform(persuasioncorpus)"
   ]
  },
  {
   "cell_type": "code",
   "execution_count": 39,
   "metadata": {},
   "outputs": [
    {
     "data": {
      "text/plain": [
       "Utterance({'id': 0, 'user': User([('name', 'A3A07QA5U733HQ')]), 'root': 0, 'reply_to': None, 'timestamp': None, 'text': 'Good morning. How are you doing today?', 'meta': {'role': 0, 'turn_index': 0, 'dialogue_id': '20180904-045349_715_live', 'er_label_1': 'greeting', 'ee_label_1': None, 'er_label_2': None, 'neg': 0.0, 'neu': 1.0, 'pos': 0.0, 'Pause': 0, 'Hesitancy': 0}})"
      ]
     },
     "execution_count": 39,
     "metadata": {},
     "output_type": "execute_result"
    }
   ],
   "source": [
    "corpus3.get_utterance(0) #result matches!"
   ]
  },
  {
   "cell_type": "code",
   "execution_count": 40,
   "metadata": {},
   "outputs": [
    {
     "data": {
      "text/plain": [
       "Conversation({'_owner': <convokit.model.corpus.Corpus object at 0x10a07bd68>, '_id': 0, '_utterance_ids': [0, 1, 2, 3, 4, 5, 6, 7, 8, 9, 10, 11, 12, 13, 14, 15, 16, 17, 18, 19, 20], '_usernames': None, '_meta': {'Avg Pause': 0.0, 'Avg Hesitancy': 0.8095238095238095}})"
      ]
     },
     "execution_count": 40,
     "metadata": {},
     "output_type": "execute_result"
    }
   ],
   "source": [
    "corpus3.get_conversation(0) #result matches!"
   ]
  },
  {
   "cell_type": "markdown",
   "metadata": {},
   "source": [
    "## E2 Applying Measure to Dataset\n",
    "\n",
    "Let Y be whether the persuadee's donation amount matches his or her pledged amount. We can perform a logistic regression using the average hesitancy/pause words per dialogue and demographic/personality score metadata (for persuadee) as features. \n"
   ]
  },
  {
   "cell_type": "code",
   "execution_count": 59,
   "metadata": {},
   "outputs": [
    {
     "data": {
      "text/plain": [
       "Conversation({'_owner': <convokit.model.corpus.Corpus object at 0x1a1faa28d0>, '_id': 0, '_utterance_ids': [0, 1, 2, 3, 4, 5, 6, 7, 8, 9, 10, 11, 12, 13, 14, 15, 16, 17, 18, 19, 20], '_usernames': None, '_meta': {}})"
      ]
     },
     "execution_count": 59,
     "metadata": {},
     "output_type": "execute_result"
    }
   ],
   "source": [
    "persuasioncorpus.get_conversation(0)"
   ]
  },
  {
   "cell_type": "code",
   "execution_count": null,
   "metadata": {},
   "outputs": [],
   "source": []
  },
  {
   "cell_type": "markdown",
   "metadata": {},
   "source": [
    "Hacky fix for conversation metadata not loading with corpus, for some reason. "
   ]
  },
  {
   "cell_type": "code",
   "execution_count": 94,
   "metadata": {},
   "outputs": [],
   "source": [
    "import json\n",
    "with open(\"/Users/grace/Cornell-Conversational-Analysis-Toolkit/datasets/persuasion_corpus/corpus/conversations.json\") as file:\n",
    "    data = json.load(file)\n",
    "for k, v in data.items():\n",
    "    persuasioncorpus.get_conversation(int(k)).meta = v"
   ]
  },
  {
   "cell_type": "code",
   "execution_count": 95,
   "metadata": {},
   "outputs": [],
   "source": [
    "corpus_full = h.transform(persuasioncorpus)"
   ]
  },
  {
   "cell_type": "code",
   "execution_count": 96,
   "metadata": {},
   "outputs": [
    {
     "data": {
      "text/plain": [
       "Conversation({'_owner': <convokit.model.corpus.Corpus object at 0x1a1faa28d0>, '_id': 0, '_utterance_ids': [0, 1, 2, 3, 4, 5, 6, 7, 8, 9, 10, 11, 12, 13, 14, 15, 16, 17, 18, 19, 20], '_usernames': None, '_meta': {'donation_amt': '0', 'num_turns': '11', 'intended_amt': 0.2, 'persuader': 'A3A07QA5U733HQ', 'persuadee': 'A25L985XCNESXE', 'Avg Pause': 0.0, 'Avg Hesitancy': 0.8095238095238095}})"
      ]
     },
     "execution_count": 96,
     "metadata": {},
     "output_type": "execute_result"
    }
   ],
   "source": [
    "corpus_full.get_conversation(0)"
   ]
  },
  {
   "cell_type": "code",
   "execution_count": 97,
   "metadata": {},
   "outputs": [
    {
     "data": {
      "text/plain": [
       "'50'"
      ]
     },
     "execution_count": 97,
     "metadata": {},
     "output_type": "execute_result"
    }
   ],
   "source": [
    "persuadeeID = corpus_full.get_conversation(0)._meta['persuadee']\n",
    "persuadeeID\n",
    "corpus_full.get_user(persuadeeID).meta['age.x']"
   ]
  },
  {
   "cell_type": "code",
   "execution_count": 98,
   "metadata": {},
   "outputs": [],
   "source": [
    "final_amt = []\n",
    "pledged_amt = []\n",
    "conscientious = []\n",
    "loyalty = []\n",
    "conform = []\n",
    "age = []\n",
    "income = []\n",
    "gender = []\n",
    "hesitancy = []\n",
    "pause = []\n",
    "\n",
    "allconvoids = corpus_full.get_conversation_ids()\n",
    "for i in list(range(0, len(allconvoids))):\n",
    "    convo_id = allconvoids[i]\n",
    "    donation = corpus_full.get_conversation(convo_id)._meta['donation_amt']\n",
    "    pledge = corpus_full.get_conversation(convo_id)._meta['intended_amt']\n",
    "    final_amt.append(donation) \n",
    "    pledged_amt.append(pledge) \n",
    "    persuadeeID = corpus_full.get_conversation(convo_id)._meta['persuadee']\n",
    "    \n",
    "    hesitancy.append(corpus_full.get_conversation(convo_id)._meta['Avg Hesitancy'])\n",
    "    pause.append(corpus_full.get_conversation(convo_id)._meta['Avg Pause'])\n",
    "    conscientious.append(corpus_full.get_user(persuadeeID).meta['conscientious.x'])\n",
    "    loyalty.append(corpus_full.get_user(persuadeeID).meta['loyalty.x'])\n",
    "    conform.append(corpus_full.get_user(persuadeeID).meta['conform.x'])\n",
    "    age.append(corpus_full.get_user(persuadeeID).meta['age.x'])\n",
    "    income.append(corpus_full.get_user(persuadeeID).meta['income.x'])\n",
    "    gender.append(corpus_full.get_user(persuadeeID).meta['sex.x'])\n",
    "    \n",
    "                         \n",
    "    "
   ]
  },
  {
   "cell_type": "code",
   "execution_count": 144,
   "metadata": {},
   "outputs": [],
   "source": [
    "import pandas as pd\n",
    "\n",
    "df = pd.DataFrame({'donation': final_amt, 'pledged': pledged_amt, 'conscientious':conscientious, \n",
    "                  'loyalty': loyalty, 'conform': conform, 'age': age, 'income':income, \n",
    "                'hesitancy':hesitancy, 'pause':pause})"
   ]
  },
  {
   "cell_type": "code",
   "execution_count": 145,
   "metadata": {},
   "outputs": [
    {
     "data": {
      "text/html": [
       "<div>\n",
       "<style scoped>\n",
       "    .dataframe tbody tr th:only-of-type {\n",
       "        vertical-align: middle;\n",
       "    }\n",
       "\n",
       "    .dataframe tbody tr th {\n",
       "        vertical-align: top;\n",
       "    }\n",
       "\n",
       "    .dataframe thead th {\n",
       "        text-align: right;\n",
       "    }\n",
       "</style>\n",
       "<table border=\"1\" class=\"dataframe\">\n",
       "  <thead>\n",
       "    <tr style=\"text-align: right;\">\n",
       "      <th></th>\n",
       "      <th>donation</th>\n",
       "      <th>pledged</th>\n",
       "      <th>conscientious</th>\n",
       "      <th>loyalty</th>\n",
       "      <th>conform</th>\n",
       "      <th>age</th>\n",
       "      <th>income</th>\n",
       "      <th>hesitancy</th>\n",
       "      <th>pause</th>\n",
       "    </tr>\n",
       "  </thead>\n",
       "  <tbody>\n",
       "    <tr>\n",
       "      <th>0</th>\n",
       "      <td>0</td>\n",
       "      <td>0.20</td>\n",
       "      <td>3.8</td>\n",
       "      <td>2.333333333</td>\n",
       "      <td>6</td>\n",
       "      <td>50</td>\n",
       "      <td>10</td>\n",
       "      <td>0.809524</td>\n",
       "      <td>0.0</td>\n",
       "    </tr>\n",
       "    <tr>\n",
       "      <th>1</th>\n",
       "      <td>0</td>\n",
       "      <td>NaN</td>\n",
       "      <td>3.2</td>\n",
       "      <td>3.333333333</td>\n",
       "      <td>3</td>\n",
       "      <td>30</td>\n",
       "      <td>2</td>\n",
       "      <td>0.700000</td>\n",
       "      <td>0.0</td>\n",
       "    </tr>\n",
       "    <tr>\n",
       "      <th>2</th>\n",
       "      <td>0.05</td>\n",
       "      <td>0.05</td>\n",
       "      <td>3.8</td>\n",
       "      <td>1</td>\n",
       "      <td>5</td>\n",
       "      <td>28</td>\n",
       "      <td>4</td>\n",
       "      <td>1.150000</td>\n",
       "      <td>0.0</td>\n",
       "    </tr>\n",
       "    <tr>\n",
       "      <th>3</th>\n",
       "      <td>0</td>\n",
       "      <td>NaN</td>\n",
       "      <td>4.8</td>\n",
       "      <td>3.666666667</td>\n",
       "      <td>6</td>\n",
       "      <td>42</td>\n",
       "      <td>9</td>\n",
       "      <td>0.428571</td>\n",
       "      <td>0.0</td>\n",
       "    </tr>\n",
       "    <tr>\n",
       "      <th>4</th>\n",
       "      <td>0</td>\n",
       "      <td>NaN</td>\n",
       "      <td>4.2</td>\n",
       "      <td>3.333333333</td>\n",
       "      <td>5</td>\n",
       "      <td>32</td>\n",
       "      <td>9</td>\n",
       "      <td>1.238095</td>\n",
       "      <td>0.0</td>\n",
       "    </tr>\n",
       "  </tbody>\n",
       "</table>\n",
       "</div>"
      ],
      "text/plain": [
       "  donation  pledged conscientious      loyalty conform age income  hesitancy  \\\n",
       "0        0     0.20           3.8  2.333333333       6  50     10   0.809524   \n",
       "1        0      NaN           3.2  3.333333333       3  30      2   0.700000   \n",
       "2     0.05     0.05           3.8            1       5  28      4   1.150000   \n",
       "3        0      NaN           4.8  3.666666667       6  42      9   0.428571   \n",
       "4        0      NaN           4.2  3.333333333       5  32      9   1.238095   \n",
       "\n",
       "   pause  \n",
       "0    0.0  \n",
       "1    0.0  \n",
       "2    0.0  \n",
       "3    0.0  \n",
       "4    0.0  "
      ]
     },
     "execution_count": 145,
     "metadata": {},
     "output_type": "execute_result"
    }
   ],
   "source": [
    "df.head(5)"
   ]
  },
  {
   "cell_type": "code",
   "execution_count": 155,
   "metadata": {},
   "outputs": [],
   "source": [
    "df['donation'].replace('', np.nan, inplace=True)\n",
    "df['pledged'].replace('', np.nan, inplace=True)\n",
    "df['conscientious'].replace('', np.nan, inplace=True)\n",
    "df['loyalty'].replace('', np.nan, inplace=True)\n",
    "df['conform'].replace('', np.nan, inplace=True)\n",
    "df['age'].replace('', np.nan, inplace=True)\n",
    "df['income'].replace('', np.nan, inplace=True)\n",
    "df['hesitancy'].replace('', np.nan, inplace=True)\n",
    "df['pause'].replace('', np.nan, inplace=True)"
   ]
  },
  {
   "cell_type": "code",
   "execution_count": 156,
   "metadata": {},
   "outputs": [
    {
     "data": {
      "text/html": [
       "<div>\n",
       "<style scoped>\n",
       "    .dataframe tbody tr th:only-of-type {\n",
       "        vertical-align: middle;\n",
       "    }\n",
       "\n",
       "    .dataframe tbody tr th {\n",
       "        vertical-align: top;\n",
       "    }\n",
       "\n",
       "    .dataframe thead th {\n",
       "        text-align: right;\n",
       "    }\n",
       "</style>\n",
       "<table border=\"1\" class=\"dataframe\">\n",
       "  <thead>\n",
       "    <tr style=\"text-align: right;\">\n",
       "      <th></th>\n",
       "      <th>donation</th>\n",
       "      <th>pledged</th>\n",
       "      <th>conscientious</th>\n",
       "      <th>loyalty</th>\n",
       "      <th>conform</th>\n",
       "      <th>age</th>\n",
       "      <th>income</th>\n",
       "      <th>hesitancy</th>\n",
       "      <th>pause</th>\n",
       "    </tr>\n",
       "  </thead>\n",
       "  <tbody>\n",
       "    <tr>\n",
       "      <th>0</th>\n",
       "      <td>0</td>\n",
       "      <td>0.20</td>\n",
       "      <td>3.8</td>\n",
       "      <td>2.333333333</td>\n",
       "      <td>6</td>\n",
       "      <td>50</td>\n",
       "      <td>10</td>\n",
       "      <td>0.809524</td>\n",
       "      <td>0.0</td>\n",
       "    </tr>\n",
       "    <tr>\n",
       "      <th>2</th>\n",
       "      <td>0.05</td>\n",
       "      <td>0.05</td>\n",
       "      <td>3.8</td>\n",
       "      <td>1</td>\n",
       "      <td>5</td>\n",
       "      <td>28</td>\n",
       "      <td>4</td>\n",
       "      <td>1.150000</td>\n",
       "      <td>0.0</td>\n",
       "    </tr>\n",
       "    <tr>\n",
       "      <th>24</th>\n",
       "      <td>0.05</td>\n",
       "      <td>0.25</td>\n",
       "      <td>4.8</td>\n",
       "      <td>2</td>\n",
       "      <td>4</td>\n",
       "      <td>35</td>\n",
       "      <td>3</td>\n",
       "      <td>1.285714</td>\n",
       "      <td>0.0</td>\n",
       "    </tr>\n",
       "    <tr>\n",
       "      <th>29</th>\n",
       "      <td>0</td>\n",
       "      <td>0.30</td>\n",
       "      <td>4</td>\n",
       "      <td>2</td>\n",
       "      <td>3</td>\n",
       "      <td>36</td>\n",
       "      <td>2</td>\n",
       "      <td>0.850000</td>\n",
       "      <td>0.0</td>\n",
       "    </tr>\n",
       "    <tr>\n",
       "      <th>41</th>\n",
       "      <td>1</td>\n",
       "      <td>1.00</td>\n",
       "      <td>5</td>\n",
       "      <td>3.666666667</td>\n",
       "      <td>5</td>\n",
       "      <td>53</td>\n",
       "      <td>11</td>\n",
       "      <td>0.523810</td>\n",
       "      <td>0.0</td>\n",
       "    </tr>\n",
       "  </tbody>\n",
       "</table>\n",
       "</div>"
      ],
      "text/plain": [
       "   donation  pledged conscientious      loyalty conform age income  hesitancy  \\\n",
       "0         0     0.20           3.8  2.333333333       6  50     10   0.809524   \n",
       "2      0.05     0.05           3.8            1       5  28      4   1.150000   \n",
       "24     0.05     0.25           4.8            2       4  35      3   1.285714   \n",
       "29        0     0.30             4            2       3  36      2   0.850000   \n",
       "41        1     1.00             5  3.666666667       5  53     11   0.523810   \n",
       "\n",
       "    pause  \n",
       "0     0.0  \n",
       "2     0.0  \n",
       "24    0.0  \n",
       "29    0.0  \n",
       "41    0.0  "
      ]
     },
     "execution_count": 156,
     "metadata": {},
     "output_type": "execute_result"
    }
   ],
   "source": [
    "df2 = df.dropna()\n",
    "df2.head()"
   ]
  },
  {
   "cell_type": "code",
   "execution_count": 157,
   "metadata": {},
   "outputs": [
    {
     "data": {
      "text/plain": [
       "(212, 9)"
      ]
     },
     "execution_count": 157,
     "metadata": {},
     "output_type": "execute_result"
    }
   ],
   "source": [
    "df2.shape"
   ]
  },
  {
   "cell_type": "code",
   "execution_count": 159,
   "metadata": {},
   "outputs": [
    {
     "data": {
      "text/plain": [
       "0     False\n",
       "2      True\n",
       "24    False\n",
       "29    False\n",
       "41     True\n",
       "dtype: bool"
      ]
     },
     "execution_count": 159,
     "metadata": {},
     "output_type": "execute_result"
    }
   ],
   "source": [
    "Y = df2['donation'].astype(float) == df2['pledged'].astype(float)\n",
    "Y.head(5)\n"
   ]
  },
  {
   "cell_type": "code",
   "execution_count": 163,
   "metadata": {},
   "outputs": [
    {
     "name": "stderr",
     "output_type": "stream",
     "text": [
      "/anaconda3/lib/python3.7/site-packages/sklearn/linear_model/logistic.py:433: FutureWarning: Default solver will be changed to 'lbfgs' in 0.22. Specify a solver to silence this warning.\n",
      "  FutureWarning)\n"
     ]
    }
   ],
   "source": [
    "from sklearn.linear_model import LogisticRegression\n",
    "logit_model = LogisticRegression().fit(df2.values[0:172,2:], Y[0:172])\n"
   ]
  },
  {
   "cell_type": "code",
   "execution_count": 164,
   "metadata": {},
   "outputs": [
    {
     "name": "stdout",
     "output_type": "stream",
     "text": [
      "0.725\n"
     ]
    }
   ],
   "source": [
    "score = logit_model.score(df2.values[172:,2:], Y[172:])\n",
    "print(score)"
   ]
  },
  {
   "cell_type": "code",
   "execution_count": 179,
   "metadata": {},
   "outputs": [
    {
     "name": "stdout",
     "output_type": "stream",
     "text": [
      "[[ 0.17554184 -0.26958433  0.00108967  0.01911428 -0.03467227 -0.78883752\n",
      "   0.06217282]]\n",
      "Index(['conscientious', 'loyalty', 'conform', 'age', 'income', 'hesitancy',\n",
      "       'pause'],\n",
      "      dtype='object')\n"
     ]
    }
   ],
   "source": [
    "print(logit_model.coef_)\n",
    "print(df2.columns[2:])"
   ]
  },
  {
   "cell_type": "code",
   "execution_count": 171,
   "metadata": {},
   "outputs": [],
   "source": [
    "#Import Random Forest Model\n",
    "from sklearn.ensemble import RandomForestClassifier\n",
    "\n",
    "#Create a Gaussian Classifier\n",
    "rf = RandomForestClassifier(n_estimators=100)\n",
    "\n",
    "#Train the model using the training sets y_pred=clf.predict(X_test)\n",
    "rf.fit(df2.values[0:172,2:], Y[0:172])\n",
    "\n",
    "y_pred=rf.predict(df2.values[172:,2:])"
   ]
  },
  {
   "cell_type": "code",
   "execution_count": 172,
   "metadata": {},
   "outputs": [
    {
     "name": "stdout",
     "output_type": "stream",
     "text": [
      "Accuracy: 0.725\n"
     ]
    }
   ],
   "source": [
    "from sklearn import metrics\n",
    "print(\"Accuracy:\",metrics.accuracy_score(Y[172:], y_pred))"
   ]
  },
  {
   "cell_type": "code",
   "execution_count": null,
   "metadata": {},
   "outputs": [],
   "source": []
  },
  {
   "cell_type": "code",
   "execution_count": 177,
   "metadata": {},
   "outputs": [
    {
     "data": {
      "text/plain": [
       "hesitancy        0.252533\n",
       "age              0.219948\n",
       "loyalty          0.157050\n",
       "conscientious    0.139614\n",
       "income           0.119875\n",
       "conform          0.085968\n",
       "pause            0.025012\n",
       "dtype: float64"
      ]
     },
     "execution_count": 177,
     "metadata": {},
     "output_type": "execute_result"
    }
   ],
   "source": [
    "feature_imp = pd.Series(rf.feature_importances_, index=df2.columns[2:]).sort_values(ascending=False)\n",
    "feature_imp"
   ]
  },
  {
   "cell_type": "code",
   "execution_count": 178,
   "metadata": {},
   "outputs": [
    {
     "name": "stderr",
     "output_type": "stream",
     "text": [
      "No handles with labels found to put in legend.\n"
     ]
    },
    {
     "data": {
      "image/png": "[encoded data removed]",
      "text/plain": [
       "<Figure size 432x288 with 1 Axes>"
      ]
     },
     "metadata": {
      "needs_background": "light"
     },
     "output_type": "display_data"
    }
   ],
   "source": [
    "import matplotlib.pyplot as plt\n",
    "import seaborn as sns\n",
    "%matplotlib inline\n",
    "# Creating a bar plot\n",
    "sns.barplot(x=feature_imp, y=feature_imp.index)\n",
    "# Add labels to your graph\n",
    "plt.xlabel('Feature Importance Score')\n",
    "plt.ylabel('Features')\n",
    "plt.title(\"Visualizing Important Features\")\n",
    "plt.legend()\n",
    "plt.show()"
   ]
  },
  {
   "cell_type": "code",
   "execution_count": null,
   "metadata": {},
   "outputs": [],
   "source": []
  }
 ],
 "metadata": {
  "kernelspec": {
   "display_name": "Python 3",
   "language": "python",
   "name": "python3"
  },
  "language_info": {
   "codemirror_mode": {
    "name": "ipython",
    "version": 3
   },
   "file_extension": ".py",
   "mimetype": "text/x-python",
   "name": "python",
   "nbconvert_exporter": "python",
   "pygments_lexer": "ipython3",
   "version": "3.7.1"
  }
 },
 "nbformat": 4,
 "nbformat_minor": 2
}
