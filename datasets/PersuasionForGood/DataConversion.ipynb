{
 "cells": [
  {
   "cell_type": "code",
   "execution_count": 49,
   "metadata": {},
   "outputs": [],
   "source": [
    "from tqdm import tqdm\n",
    "from convokit import Corpus, User, Utterance"
   ]
  },
  {
   "cell_type": "markdown",
   "metadata": {},
   "source": [
    "## Creating Users"
   ]
  },
  {
   "cell_type": "code",
   "execution_count": 50,
   "metadata": {},
   "outputs": [],
   "source": [
    "data_dir = \"./data/FullData/full_info.csv\""
   ]
  },
  {
   "cell_type": "markdown",
   "metadata": {},
   "source": [
    "The full PersuasionForGood dataset contains two files:\n",
    "    full_info.csv\n",
    "    full_dialog.csv\n",
    "The metadata for each of the users are contained in the full_info.csv file. \n",
    "The first five columns of each line include information about the dialogue that the user is a part of. Because a user can be involved in multiple dialogues, each dialogue is a key within the user metadata which retreives the role, donation amount and number of turn associated with the user within a specific dialogue. The rest of the entries correspond to the 23 dimensional feature vector associated with each user. \n",
    "\n",
    "Additionally, the dictionary diag_to_user is used so that the users can be searched with just a dialogue ID and role. This is because the full_dialog.csv file only has the dialogue id and not the user_ids of the participating users. "
   ]
  },
  {
   "cell_type": "code",
   "execution_count": 58,
   "metadata": {},
   "outputs": [],
   "source": [
    "user_meta = {}\n",
    "first = True\n",
    "headers = None\n",
    "diag_to_user = {}\n",
    "with open(data_dir, \"r\", encoding='utf-8', errors='ignore') as f:\n",
    "    for line in f:          \n",
    "        info = line.split(\",\")\n",
    "        if first:\n",
    "            #Getting the headers of the personality vector\n",
    "            headers = info[5:]\n",
    "            first = False\n",
    "        else:\n",
    "            diag_to_user[(info[0],info[2])] = info[1]\n",
    "            if info[1] in user_meta:\n",
    "                user_meta[info[1]][info[0]] = {\"role\": info[2],\n",
    "                                       \"donation_amt\": info[3],\n",
    "                                       \"num_turns\": info[4]}\n",
    "            else:\n",
    "                user_meta[info[1]] = {info[0]: {\"role\": info[2],\n",
    "                                       \"donation_amt\": info[3],\n",
    "                                       \"num_turns\": info[4]}}\n",
    "                for i, heading in enumerate(headers):\n",
    "                    user_meta[info[1]][heading] = info[i+5]\n",
    "        "
   ]
  },
  {
   "cell_type": "code",
   "execution_count": 59,
   "metadata": {},
   "outputs": [],
   "source": [
    "corpus_users = {k: User(name = k, meta = v) for k,v in user_meta.items()}"
   ]
  },
  {
   "cell_type": "code",
   "execution_count": 60,
   "metadata": {},
   "outputs": [
    {
     "name": "stdout",
     "output_type": "stream",
     "text": [
      "number of users in the data = 1285\n"
     ]
    }
   ],
   "source": [
    "print(\"number of users in the data = {0}\".format(len(corpus_users)))"
   ]
  },
  {
   "cell_type": "code",
   "execution_count": 84,
   "metadata": {},
   "outputs": [
    {
     "data": {
      "text/plain": [
       "['extrovert.x',\n",
       " 'agreeable.x',\n",
       " 'conscientious.x',\n",
       " 'neurotic.x',\n",
       " 'open.x',\n",
       " 'care.x',\n",
       " 'fairness.x',\n",
       " 'loyalty.x',\n",
       " 'authority.x',\n",
       " 'purity.x',\n",
       " 'freedom.x',\n",
       " 'conform.x',\n",
       " 'tradition.x',\n",
       " 'benevolence.x',\n",
       " 'universalism.x',\n",
       " 'self_direction.x',\n",
       " 'stimulation.x',\n",
       " 'hedonism.x',\n",
       " 'achievement.x',\n",
       " 'power.x',\n",
       " 'security.x',\n",
       " 'rational.x',\n",
       " 'intuitive.x',\n",
       " 'age.x',\n",
       " 'sex.x',\n",
       " 'race.x',\n",
       " 'edu.x',\n",
       " 'marital.x',\n",
       " 'employment.x',\n",
       " 'income.x',\n",
       " 'religion.x',\n",
       " 'ideology.x\\n']"
      ]
     },
     "execution_count": 84,
     "metadata": {},
     "output_type": "execute_result"
    }
   ],
   "source": [
    "headers"
   ]
  },
  {
   "cell_type": "markdown",
   "metadata": {},
   "source": [
    "## Creating Utterances\n",
    "\n",
    "Utterances can be found in the full_dialog.csv, with 20932 lines total. The raw data has four columns: <br>\n",
    "\"Unit\" is the text of the utterance.  <br>\n",
    "\"Turn\" is the turn of the utterance; for example, the first back and forth between persuader and persuadee would both have \"Turn\" = 0.  <br>\n",
    "\"B2\" is the conversation ID. <br>\n",
    "\"B4\" is the role of the user in this utterance, persuader(0) or persuadee (1). <br>\n",
    "\n",
    "As per the utterance object, we give each utterance a unique id and the unique user ID is found using a dictionary which takes in the conversation ID and role of user. The metadata for each utterance includes both the turn and role  of user. "
   ]
  },
  {
   "cell_type": "code",
   "execution_count": 61,
   "metadata": {},
   "outputs": [
    {
     "data": {
      "text/html": [
       "<div>\n",
       "<style scoped>\n",
       "    .dataframe tbody tr th:only-of-type {\n",
       "        vertical-align: middle;\n",
       "    }\n",
       "\n",
       "    .dataframe tbody tr th {\n",
       "        vertical-align: top;\n",
       "    }\n",
       "\n",
       "    .dataframe thead th {\n",
       "        text-align: right;\n",
       "    }\n",
       "</style>\n",
       "<table border=\"1\" class=\"dataframe\">\n",
       "  <thead>\n",
       "    <tr style=\"text-align: right;\">\n",
       "      <th></th>\n",
       "      <th>Unnamed: 0</th>\n",
       "      <th>Unit</th>\n",
       "      <th>Turn</th>\n",
       "      <th>B4</th>\n",
       "      <th>B2</th>\n",
       "    </tr>\n",
       "  </thead>\n",
       "  <tbody>\n",
       "    <tr>\n",
       "      <td>0</td>\n",
       "      <td>0</td>\n",
       "      <td>Good morning. How are you doing today?</td>\n",
       "      <td>0</td>\n",
       "      <td>0</td>\n",
       "      <td>20180904-045349_715_live</td>\n",
       "    </tr>\n",
       "    <tr>\n",
       "      <td>1</td>\n",
       "      <td>1</td>\n",
       "      <td>Hi. I am doing good. How about you?</td>\n",
       "      <td>0</td>\n",
       "      <td>1</td>\n",
       "      <td>20180904-045349_715_live</td>\n",
       "    </tr>\n",
       "    <tr>\n",
       "      <td>2</td>\n",
       "      <td>2</td>\n",
       "      <td>I'm doing pretty good for a Tuesday morning.</td>\n",
       "      <td>1</td>\n",
       "      <td>0</td>\n",
       "      <td>20180904-045349_715_live</td>\n",
       "    </tr>\n",
       "    <tr>\n",
       "      <td>3</td>\n",
       "      <td>3</td>\n",
       "      <td>Haha. Same here, but it really feels like a Mo...</td>\n",
       "      <td>1</td>\n",
       "      <td>1</td>\n",
       "      <td>20180904-045349_715_live</td>\n",
       "    </tr>\n",
       "    <tr>\n",
       "      <td>4</td>\n",
       "      <td>4</td>\n",
       "      <td>Ugh yes it does!</td>\n",
       "      <td>2</td>\n",
       "      <td>0</td>\n",
       "      <td>20180904-045349_715_live</td>\n",
       "    </tr>\n",
       "    <tr>\n",
       "      <td>...</td>\n",
       "      <td>...</td>\n",
       "      <td>...</td>\n",
       "      <td>...</td>\n",
       "      <td>...</td>\n",
       "      <td>...</td>\n",
       "    </tr>\n",
       "    <tr>\n",
       "      <td>20927</td>\n",
       "      <td>15</td>\n",
       "      <td>My small change won't do a thing for those kid...</td>\n",
       "      <td>7</td>\n",
       "      <td>1</td>\n",
       "      <td>20180717-200206_41_live</td>\n",
       "    </tr>\n",
       "    <tr>\n",
       "      <td>20928</td>\n",
       "      <td>16</td>\n",
       "      <td>Well with our current president it's not likel...</td>\n",
       "      <td>8</td>\n",
       "      <td>0</td>\n",
       "      <td>20180717-200206_41_live</td>\n",
       "    </tr>\n",
       "    <tr>\n",
       "      <td>20929</td>\n",
       "      <td>17</td>\n",
       "      <td>If it makes you happy, go ahead and take .50</td>\n",
       "      <td>8</td>\n",
       "      <td>1</td>\n",
       "      <td>20180717-200206_41_live</td>\n",
       "    </tr>\n",
       "    <tr>\n",
       "      <td>20930</td>\n",
       "      <td>18</td>\n",
       "      <td>Oh thank you so much, you have no idea how muc...</td>\n",
       "      <td>9</td>\n",
       "      <td>0</td>\n",
       "      <td>20180717-200206_41_live</td>\n",
       "    </tr>\n",
       "    <tr>\n",
       "      <td>20931</td>\n",
       "      <td>19</td>\n",
       "      <td>No problem have a good night</td>\n",
       "      <td>9</td>\n",
       "      <td>1</td>\n",
       "      <td>20180717-200206_41_live</td>\n",
       "    </tr>\n",
       "  </tbody>\n",
       "</table>\n",
       "<p>20932 rows × 5 columns</p>\n",
       "</div>"
      ],
      "text/plain": [
       "       Unnamed: 0                                               Unit  Turn  \\\n",
       "0               0             Good morning. How are you doing today?     0   \n",
       "1               1                Hi. I am doing good. How about you?     0   \n",
       "2               2      I'm doing pretty good for a Tuesday morning.      1   \n",
       "3               3  Haha. Same here, but it really feels like a Mo...     1   \n",
       "4               4                                   Ugh yes it does!     2   \n",
       "...           ...                                                ...   ...   \n",
       "20927          15  My small change won't do a thing for those kid...     7   \n",
       "20928          16  Well with our current president it's not likel...     8   \n",
       "20929          17       If it makes you happy, go ahead and take .50     8   \n",
       "20930          18  Oh thank you so much, you have no idea how muc...     9   \n",
       "20931          19                       No problem have a good night     9   \n",
       "\n",
       "       B4                        B2  \n",
       "0       0  20180904-045349_715_live  \n",
       "1       1  20180904-045349_715_live  \n",
       "2       0  20180904-045349_715_live  \n",
       "3       1  20180904-045349_715_live  \n",
       "4       0  20180904-045349_715_live  \n",
       "...    ..                       ...  \n",
       "20927   1   20180717-200206_41_live  \n",
       "20928   0   20180717-200206_41_live  \n",
       "20929   1   20180717-200206_41_live  \n",
       "20930   0   20180717-200206_41_live  \n",
       "20931   1   20180717-200206_41_live  \n",
       "\n",
       "[20932 rows x 5 columns]"
      ]
     },
     "execution_count": 61,
     "metadata": {},
     "output_type": "execute_result"
    }
   ],
   "source": [
    "import pandas as pd\n",
    "utterance_data = pd.read_csv(\"./data/FullData/full_dialog.csv\") \n",
    "utterance_data"
   ]
  },
  {
   "cell_type": "code",
   "execution_count": 62,
   "metadata": {},
   "outputs": [
    {
     "data": {
      "text/plain": [
       "2034"
      ]
     },
     "execution_count": 62,
     "metadata": {},
     "output_type": "execute_result"
    }
   ],
   "source": [
    "len(diag_to_user)"
   ]
  },
  {
   "cell_type": "code",
   "execution_count": 85,
   "metadata": {},
   "outputs": [],
   "source": [
    "utterance_corpus = {}\n",
    "convo_order = utterance_data[\"Unnamed: 0\"]\n",
    "\n",
    "for i in list(range(len(utterance_data))):\n",
    "    utterance_data_line = utterance_data.loc[i, :]\n",
    "    B2 = utterance_data_line[\"B2\"]\n",
    "    B4 = utterance_data_line[\"B4\"]\n",
    "    Text = utterance_data_line[\"Unit\"]\n",
    "    meta = {\"role\": str(B4), \"num_turns\": utterance_data_line[\"Turn\"], \"dialogue_id\" : B2}\n",
    "    \n",
    "    if utterance_data_line[\"Unnamed: 0\"] == 0:\n",
    "        ReplyTo = None\n",
    "    else:  \n",
    "        ReplyTo = i - 1\n",
    "    if utterance_data_line[\"Unnamed: 0\"] == 0:\n",
    "        Root = i\n",
    "    else:\n",
    "        utter_id = list(range(0, i+1))\n",
    "        convo_order_sub = convo_order.loc[0:i]\n",
    "        df = pd.DataFrame({\"utter_id\": utter_id, \"convo_order_sub\":convo_order_sub})\n",
    "        df2 = df[df[\"convo_order_sub\"] == 0]\n",
    "        Root = df2['utter_id'].max()\n",
    "    utterance_corpus[i] = Utterance(i, corpus_users[diag_to_user[(B2,str(B4))]], Root, ReplyTo, None, Text, meta=meta)"
   ]
  },
  {
   "cell_type": "code",
   "execution_count": 89,
   "metadata": {},
   "outputs": [
    {
     "data": {
      "text/plain": [
       "{'dialogue_id': '20180904-045349_715_live', 'num_turns': 0, 'role': '0'}"
      ]
     },
     "execution_count": 89,
     "metadata": {},
     "output_type": "execute_result"
    }
   ],
   "source": [
    "utterance_corpus[0].meta"
   ]
  },
  {
   "cell_type": "code",
   "execution_count": 65,
   "metadata": {},
   "outputs": [
    {
     "data": {
      "text/plain": [
       "20932"
      ]
     },
     "execution_count": 65,
     "metadata": {},
     "output_type": "execute_result"
    }
   ],
   "source": [
    "len(utterance_corpus)"
   ]
  },
  {
   "cell_type": "markdown",
   "metadata": {},
   "source": [
    "##  Creating corpus from utterances"
   ]
  },
  {
   "cell_type": "code",
   "execution_count": 94,
   "metadata": {},
   "outputs": [],
   "source": [
    "utterance_list = [utterance for k, utterance in utterance_corpus.items()]"
   ]
  },
  {
   "cell_type": "code",
   "execution_count": 95,
   "metadata": {},
   "outputs": [],
   "source": [
    "persuasion_corpus = Corpus(utterances=utterance_list, version=1)"
   ]
  },
  {
   "cell_type": "code",
   "execution_count": 96,
   "metadata": {},
   "outputs": [
    {
     "name": "stdout",
     "output_type": "stream",
     "text": [
      "number of conversations in the dataset = 1017\n"
     ]
    }
   ],
   "source": [
    "print(\"number of conversations in the dataset = {}\".format(len(persuasion_corpus.get_conversation_ids())))"
   ]
  },
  {
   "cell_type": "code",
   "execution_count": 97,
   "metadata": {},
   "outputs": [
    {
     "name": "stdout",
     "output_type": "stream",
     "text": [
      "sample conversation 0:\n",
      "[0, 1, 2, 3, 4, 5, 6, 7, 8, 9, 10, 11, 12, 13, 14, 15, 16, 17, 18, 19, 20]\n",
      "sample conversation 1:\n",
      "[21, 22, 23, 24, 25, 26, 27, 28, 29, 30, 31, 32, 33, 34, 35, 36, 37, 38, 39, 40]\n",
      "sample conversation 2:\n",
      "[41, 42, 43, 44, 45, 46, 47, 48, 49, 50, 51, 52, 53, 54, 55, 56, 57, 58, 59, 60]\n",
      "sample conversation 3:\n",
      "[61, 62, 63, 64, 65, 66, 67, 68, 69, 70, 71, 72, 73, 74, 75, 76, 77, 78, 79, 80, 81]\n",
      "sample conversation 4:\n",
      "[82, 83, 84, 85, 86, 87, 88, 89, 90, 91, 92, 93, 94, 95, 96, 97, 98, 99, 100, 101, 102]\n"
     ]
    }
   ],
   "source": [
    "convo_ids = persuasion_corpus.get_conversation_ids()\n",
    "for i, convo_idx in enumerate(convo_ids[0:5]):\n",
    "    print(\"sample conversation {}:\".format(i))\n",
    "    print(persuasion_corpus.get_conversation(convo_idx).get_utterance_ids())"
   ]
  },
  {
   "cell_type": "code",
   "execution_count": 98,
   "metadata": {},
   "outputs": [],
   "source": [
    "persuasion_corpus.dump(\"persuasion_corpus\",\"./\")"
   ]
  },
  {
   "cell_type": "code",
   "execution_count": null,
   "metadata": {},
   "outputs": [],
   "source": []
  }
 ],
 "metadata": {
  "kernelspec": {
   "display_name": "Python 3",
   "language": "python",
   "name": "python3"
  },
  "language_info": {
   "codemirror_mode": {
    "name": "ipython",
    "version": 3
   },
   "file_extension": ".py",
   "mimetype": "text/x-python",
   "name": "python",
   "nbconvert_exporter": "python",
   "pygments_lexer": "ipython3",
   "version": "3.6.5"
  }
 },
 "nbformat": 4,
 "nbformat_minor": 2
}
